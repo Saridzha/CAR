{
 "cells": [
  {
   "cell_type": "code",
   "execution_count": 30,
   "id": "aba3a2ad",
   "metadata": {},
   "outputs": [
    {
     "data": {
      "text/html": [
       "<script>\n",
       "code_show=true; \n",
       "function code_toggle() {\n",
       " if (code_show){\n",
       " $('div.input').hide();\n",
       " } else {\n",
       " $('div.input').show();\n",
       " }\n",
       " code_show = !code_show\n",
       "} \n",
       "$( document ).ready(code_toggle);\n",
       "</script>\n",
       "<form action=\"javascript:code_toggle()\"><input type=\"submit\" value=\"Click here to toggle on/off the raw code.\"></form>"
      ],
      "text/plain": [
       "<IPython.core.display.HTML object>"
      ]
     },
     "execution_count": 30,
     "metadata": {},
     "output_type": "execute_result"
    }
   ],
   "source": [
    "from IPython.display import HTML\n",
    "\n",
    "HTML('''<script>\n",
    "code_show=true; \n",
    "function code_toggle() {\n",
    " if (code_show){\n",
    " $('div.input').hide();\n",
    " } else {\n",
    " $('div.input').show();\n",
    " }\n",
    " code_show = !code_show\n",
    "} \n",
    "$( document ).ready(code_toggle);\n",
    "</script>\n",
    "<form action=\"javascript:code_toggle()\"><input type=\"submit\" value=\"Click here to toggle on/off the raw code.\"></form>''')"
   ]
  },
  {
   "cell_type": "code",
   "execution_count": 31,
   "id": "78e6a8bc",
   "metadata": {},
   "outputs": [],
   "source": [
    "#!pip install numpy\n",
    "#!pip install matplotlib\n",
    "#!pip install pandas"
   ]
  },
  {
   "cell_type": "code",
   "execution_count": 32,
   "id": "350ee141",
   "metadata": {},
   "outputs": [],
   "source": [
    "#!pip list"
   ]
  },
  {
   "cell_type": "markdown",
   "id": "0119008e",
   "metadata": {},
   "source": [
    "# Importing data"
   ]
  },
  {
   "cell_type": "code",
   "execution_count": 33,
   "id": "08bf26eb",
   "metadata": {},
   "outputs": [],
   "source": [
    "import numpy as np\n",
    "import matplotlib.pyplot as plt\n",
    "import pandas as pd"
   ]
  },
  {
   "cell_type": "code",
   "execution_count": 34,
   "id": "874309f0",
   "metadata": {},
   "outputs": [],
   "source": [
    "df = pd.read_csv('vehicle_price(2020).csv', delimiter=',')"
   ]
  },
  {
   "cell_type": "code",
   "execution_count": 35,
   "id": "9975c240",
   "metadata": {},
   "outputs": [
    {
     "data": {
      "text/html": [
       "<div>\n",
       "<style scoped>\n",
       "    .dataframe tbody tr th:only-of-type {\n",
       "        vertical-align: middle;\n",
       "    }\n",
       "\n",
       "    .dataframe tbody tr th {\n",
       "        vertical-align: top;\n",
       "    }\n",
       "\n",
       "    .dataframe thead th {\n",
       "        text-align: right;\n",
       "    }\n",
       "</style>\n",
       "<table border=\"1\" class=\"dataframe\">\n",
       "  <thead>\n",
       "    <tr style=\"text-align: right;\">\n",
       "      <th></th>\n",
       "      <th>brand</th>\n",
       "      <th>model</th>\n",
       "      <th>year</th>\n",
       "      <th>body</th>\n",
       "      <th>price</th>\n",
       "      <th>car_mileage</th>\n",
       "      <th>fuel</th>\n",
       "      <th>power</th>\n",
       "      <th>transmission</th>\n",
       "    </tr>\n",
       "  </thead>\n",
       "  <tbody>\n",
       "    <tr>\n",
       "      <th>0</th>\n",
       "      <td>ford</td>\n",
       "      <td>transit</td>\n",
       "      <td>2006</td>\n",
       "      <td>other</td>\n",
       "      <td>5350</td>\n",
       "      <td>220</td>\n",
       "      <td>diesel</td>\n",
       "      <td>2.0</td>\n",
       "      <td>manual</td>\n",
       "    </tr>\n",
       "    <tr>\n",
       "      <th>1</th>\n",
       "      <td>renault</td>\n",
       "      <td>master</td>\n",
       "      <td>2017</td>\n",
       "      <td>other</td>\n",
       "      <td>17000</td>\n",
       "      <td>211</td>\n",
       "      <td>diesel</td>\n",
       "      <td>2.3</td>\n",
       "      <td>manual</td>\n",
       "    </tr>\n",
       "    <tr>\n",
       "      <th>2</th>\n",
       "      <td>opel</td>\n",
       "      <td>vivaro</td>\n",
       "      <td>2015</td>\n",
       "      <td>other</td>\n",
       "      <td>15200</td>\n",
       "      <td>157</td>\n",
       "      <td>diesel</td>\n",
       "      <td>1.6</td>\n",
       "      <td>manual</td>\n",
       "    </tr>\n",
       "    <tr>\n",
       "      <th>3</th>\n",
       "      <td>ford</td>\n",
       "      <td>transit</td>\n",
       "      <td>2000</td>\n",
       "      <td>other</td>\n",
       "      <td>4999</td>\n",
       "      <td>300</td>\n",
       "      <td>diesel</td>\n",
       "      <td>2.4</td>\n",
       "      <td>manual</td>\n",
       "    </tr>\n",
       "    <tr>\n",
       "      <th>4</th>\n",
       "      <td>mercedes-benz</td>\n",
       "      <td>sprinter</td>\n",
       "      <td>2010</td>\n",
       "      <td>other</td>\n",
       "      <td>20700</td>\n",
       "      <td>682</td>\n",
       "      <td>diesel</td>\n",
       "      <td>3.0</td>\n",
       "      <td>automatic</td>\n",
       "    </tr>\n",
       "    <tr>\n",
       "      <th>...</th>\n",
       "      <td>...</td>\n",
       "      <td>...</td>\n",
       "      <td>...</td>\n",
       "      <td>...</td>\n",
       "      <td>...</td>\n",
       "      <td>...</td>\n",
       "      <td>...</td>\n",
       "      <td>...</td>\n",
       "      <td>...</td>\n",
       "    </tr>\n",
       "    <tr>\n",
       "      <th>215</th>\n",
       "      <td>ford</td>\n",
       "      <td>transit</td>\n",
       "      <td>2016</td>\n",
       "      <td>other</td>\n",
       "      <td>13999</td>\n",
       "      <td>170</td>\n",
       "      <td>diesel</td>\n",
       "      <td>2.2</td>\n",
       "      <td>manual</td>\n",
       "    </tr>\n",
       "    <tr>\n",
       "      <th>216</th>\n",
       "      <td>volkswagen</td>\n",
       "      <td>crafter</td>\n",
       "      <td>2010</td>\n",
       "      <td>other</td>\n",
       "      <td>11300</td>\n",
       "      <td>247</td>\n",
       "      <td>diesel</td>\n",
       "      <td>2.5</td>\n",
       "      <td>manual</td>\n",
       "    </tr>\n",
       "    <tr>\n",
       "      <th>217</th>\n",
       "      <td>mercedes-benz</td>\n",
       "      <td>210</td>\n",
       "      <td>2000</td>\n",
       "      <td>other</td>\n",
       "      <td>5000</td>\n",
       "      <td>250</td>\n",
       "      <td>diesel</td>\n",
       "      <td>2.9</td>\n",
       "      <td>manual</td>\n",
       "    </tr>\n",
       "    <tr>\n",
       "      <th>218</th>\n",
       "      <td>mercedes-benz</td>\n",
       "      <td>sprinter</td>\n",
       "      <td>2001</td>\n",
       "      <td>other</td>\n",
       "      <td>7500</td>\n",
       "      <td>370</td>\n",
       "      <td>diesel</td>\n",
       "      <td>2.2</td>\n",
       "      <td>automatic</td>\n",
       "    </tr>\n",
       "    <tr>\n",
       "      <th>219</th>\n",
       "      <td>opel</td>\n",
       "      <td>movano</td>\n",
       "      <td>2006</td>\n",
       "      <td>other</td>\n",
       "      <td>7200</td>\n",
       "      <td>221</td>\n",
       "      <td>diesel</td>\n",
       "      <td>2.5</td>\n",
       "      <td>manual</td>\n",
       "    </tr>\n",
       "  </tbody>\n",
       "</table>\n",
       "<p>220 rows × 9 columns</p>\n",
       "</div>"
      ],
      "text/plain": [
       "             brand     model  year   body  price  car_mileage    fuel  power  \\\n",
       "0             ford   transit  2006  other   5350          220  diesel    2.0   \n",
       "1          renault    master  2017  other  17000          211  diesel    2.3   \n",
       "2             opel    vivaro  2015  other  15200          157  diesel    1.6   \n",
       "3             ford   transit  2000  other   4999          300  diesel    2.4   \n",
       "4    mercedes-benz  sprinter  2010  other  20700          682  diesel    3.0   \n",
       "..             ...       ...   ...    ...    ...          ...     ...    ...   \n",
       "215           ford   transit  2016  other  13999          170  diesel    2.2   \n",
       "216     volkswagen   crafter  2010  other  11300          247  diesel    2.5   \n",
       "217  mercedes-benz       210  2000  other   5000          250  diesel    2.9   \n",
       "218  mercedes-benz  sprinter  2001  other   7500          370  diesel    2.2   \n",
       "219           opel    movano  2006  other   7200          221  diesel    2.5   \n",
       "\n",
       "    transmission  \n",
       "0         manual  \n",
       "1         manual  \n",
       "2         manual  \n",
       "3         manual  \n",
       "4      automatic  \n",
       "..           ...  \n",
       "215       manual  \n",
       "216       manual  \n",
       "217       manual  \n",
       "218    automatic  \n",
       "219       manual  \n",
       "\n",
       "[220 rows x 9 columns]"
      ]
     },
     "execution_count": 35,
     "metadata": {},
     "output_type": "execute_result"
    }
   ],
   "source": [
    "df"
   ]
  },
  {
   "cell_type": "code",
   "execution_count": 36,
   "id": "2778025c",
   "metadata": {},
   "outputs": [
    {
     "name": "stdout",
     "output_type": "stream",
     "text": [
      "<class 'pandas.core.frame.DataFrame'>\n",
      "RangeIndex: 220 entries, 0 to 219\n",
      "Data columns (total 9 columns):\n",
      " #   Column        Non-Null Count  Dtype  \n",
      "---  ------        --------------  -----  \n",
      " 0   brand         220 non-null    object \n",
      " 1   model         220 non-null    object \n",
      " 2   year          220 non-null    int64  \n",
      " 3   body          220 non-null    object \n",
      " 4   price         220 non-null    int64  \n",
      " 5   car_mileage   220 non-null    int64  \n",
      " 6   fuel          200 non-null    object \n",
      " 7   power         200 non-null    float64\n",
      " 8   transmission  220 non-null    object \n",
      "dtypes: float64(1), int64(3), object(5)\n",
      "memory usage: 15.6+ KB\n"
     ]
    }
   ],
   "source": [
    "df.info()"
   ]
  },
  {
   "cell_type": "markdown",
   "id": "232934b6",
   "metadata": {},
   "source": [
    "В переменных fuel и power есть пропущенные значения."
   ]
  },
  {
   "cell_type": "markdown",
   "id": "ac17b2a6",
   "metadata": {},
   "source": [
    "# Visualization"
   ]
  },
  {
   "cell_type": "code",
   "execution_count": 7,
   "id": "c3fecbef",
   "metadata": {},
   "outputs": [
    {
     "data": {
      "text/plain": [
       "<AxesSubplot:ylabel='Frequency'>"
      ]
     },
     "execution_count": 7,
     "metadata": {},
     "output_type": "execute_result"
    },
    {
     "data": {
      "image/png": "[encoded data removed]",
      "text/plain": [
       "<Figure size 432x288 with 1 Axes>"
      ]
     },
     "metadata": {
      "needs_background": "light"
     },
     "output_type": "display_data"
    }
   ],
   "source": [
    "df['car_mileage'].plot(kind = 'hist')"
   ]
  },
  {
   "cell_type": "markdown",
   "id": "28a4830d",
   "metadata": {},
   "source": [
    "Видим, что у 218 автомобилей car_mileage не достигает 1000 км и есть два объекта нетипичных для нашей выборки."
   ]
  },
  {
   "cell_type": "code",
   "execution_count": 8,
   "id": "973e48db",
   "metadata": {},
   "outputs": [
    {
     "data": {
      "text/plain": [
       "<AxesSubplot:ylabel='Frequency'>"
      ]
     },
     "execution_count": 8,
     "metadata": {},
     "output_type": "execute_result"
    },
    {
     "data": {
      "image/png": "[encoded data removed]",
      "text/plain": [
       "<Figure size 432x288 with 1 Axes>"
      ]
     },
     "metadata": {
      "needs_background": "light"
     },
     "output_type": "display_data"
    }
   ],
   "source": [
    "df['power'].plot(kind = 'hist')"
   ]
  },
  {
   "cell_type": "markdown",
   "id": "65d0256a",
   "metadata": {},
   "source": [
    "Можем сделать вывод, что чаще всего встречаются в выборке автомобили с power 2.0-2.5\n",
    "В данном показателе существуют ошибки и/или выбросы."
   ]
  },
  {
   "cell_type": "code",
   "execution_count": 9,
   "id": "4ffbc5ea",
   "metadata": {},
   "outputs": [
    {
     "data": {
      "text/plain": [
       "<AxesSubplot:ylabel='Frequency'>"
      ]
     },
     "execution_count": 9,
     "metadata": {},
     "output_type": "execute_result"
    },
    {
     "data": {
      "image/png": "[encoded data removed]",
      "text/plain": [
       "<Figure size 432x288 with 1 Axes>"
      ]
     },
     "metadata": {
      "needs_background": "light"
     },
     "output_type": "display_data"
    }
   ],
   "source": [
    "df['price'].plot(kind = 'hist')"
   ]
  },
  {
   "cell_type": "markdown",
   "id": "0b590c91",
   "metadata": {},
   "source": [
    "Видим, что большее количество автомобилей имеют стоимость до 20000$, около 24 автомобилей имеют стоимость больше 20000$ и до 35000$, а так же есть 3 объекта, которые нетипичны. "
   ]
  },
  {
   "cell_type": "code",
   "execution_count": 10,
   "id": "1c56fb5e",
   "metadata": {},
   "outputs": [
    {
     "data": {
      "text/plain": [
       "<AxesSubplot:ylabel='Frequency'>"
      ]
     },
     "execution_count": 10,
     "metadata": {},
     "output_type": "execute_result"
    },
    {
     "data": {
      "image/png": "[encoded data removed]",
      "text/plain": [
       "<Figure size 432x288 with 1 Axes>"
      ]
     },
     "metadata": {
      "needs_background": "light"
     },
     "output_type": "display_data"
    }
   ],
   "source": [
    "df['year'].plot(kind = 'hist')"
   ]
  },
  {
   "cell_type": "markdown",
   "id": "110e907c",
   "metadata": {},
   "source": [
    "Видим, что в выборке чаще всего встречаются автомобили 2004-2006 года выпуска.\n",
    "Предположим, что в данном показателе существуют ошибки и/или выбросы."
   ]
  },
  {
   "cell_type": "markdown",
   "id": "536a7416",
   "metadata": {},
   "source": [
    "# Statistics"
   ]
  },
  {
   "cell_type": "code",
   "execution_count": 11,
   "id": "fa56fca8",
   "metadata": {},
   "outputs": [
    {
     "data": {
      "text/html": [
       "<div>\n",
       "<style scoped>\n",
       "    .dataframe tbody tr th:only-of-type {\n",
       "        vertical-align: middle;\n",
       "    }\n",
       "\n",
       "    .dataframe tbody tr th {\n",
       "        vertical-align: top;\n",
       "    }\n",
       "\n",
       "    .dataframe thead th {\n",
       "        text-align: right;\n",
       "    }\n",
       "</style>\n",
       "<table border=\"1\" class=\"dataframe\">\n",
       "  <thead>\n",
       "    <tr style=\"text-align: right;\">\n",
       "      <th></th>\n",
       "      <th>year</th>\n",
       "      <th>price</th>\n",
       "      <th>car_mileage</th>\n",
       "      <th>power</th>\n",
       "    </tr>\n",
       "  </thead>\n",
       "  <tbody>\n",
       "    <tr>\n",
       "      <th>count</th>\n",
       "      <td>220.000000</td>\n",
       "      <td>220.000000</td>\n",
       "      <td>220.000000</td>\n",
       "      <td>200.000000</td>\n",
       "    </tr>\n",
       "    <tr>\n",
       "      <th>mean</th>\n",
       "      <td>2007.945455</td>\n",
       "      <td>11902.877273</td>\n",
       "      <td>283.945455</td>\n",
       "      <td>2.197450</td>\n",
       "    </tr>\n",
       "    <tr>\n",
       "      <th>std</th>\n",
       "      <td>5.870500</td>\n",
       "      <td>11995.810368</td>\n",
       "      <td>540.378513</td>\n",
       "      <td>0.396168</td>\n",
       "    </tr>\n",
       "    <tr>\n",
       "      <th>min</th>\n",
       "      <td>1989.000000</td>\n",
       "      <td>1880.000000</td>\n",
       "      <td>1.000000</td>\n",
       "      <td>1.000000</td>\n",
       "    </tr>\n",
       "    <tr>\n",
       "      <th>25%</th>\n",
       "      <td>2004.750000</td>\n",
       "      <td>6999.750000</td>\n",
       "      <td>170.000000</td>\n",
       "      <td>2.000000</td>\n",
       "    </tr>\n",
       "    <tr>\n",
       "      <th>50%</th>\n",
       "      <td>2008.000000</td>\n",
       "      <td>9699.500000</td>\n",
       "      <td>230.000000</td>\n",
       "      <td>2.200000</td>\n",
       "    </tr>\n",
       "    <tr>\n",
       "      <th>75%</th>\n",
       "      <td>2013.000000</td>\n",
       "      <td>14000.000000</td>\n",
       "      <td>314.250000</td>\n",
       "      <td>2.500000</td>\n",
       "    </tr>\n",
       "    <tr>\n",
       "      <th>max</th>\n",
       "      <td>2018.000000</td>\n",
       "      <td>155555.000000</td>\n",
       "      <td>8000.000000</td>\n",
       "      <td>3.600000</td>\n",
       "    </tr>\n",
       "  </tbody>\n",
       "</table>\n",
       "</div>"
      ],
      "text/plain": [
       "              year          price  car_mileage       power\n",
       "count   220.000000     220.000000   220.000000  200.000000\n",
       "mean   2007.945455   11902.877273   283.945455    2.197450\n",
       "std       5.870500   11995.810368   540.378513    0.396168\n",
       "min    1989.000000    1880.000000     1.000000    1.000000\n",
       "25%    2004.750000    6999.750000   170.000000    2.000000\n",
       "50%    2008.000000    9699.500000   230.000000    2.200000\n",
       "75%    2013.000000   14000.000000   314.250000    2.500000\n",
       "max    2018.000000  155555.000000  8000.000000    3.600000"
      ]
     },
     "execution_count": 11,
     "metadata": {},
     "output_type": "execute_result"
    }
   ],
   "source": [
    "df.describe()"
   ]
  },
  {
   "cell_type": "markdown",
   "id": "84d4c625",
   "metadata": {},
   "source": [
    "В поле power есть пропущенные значения. \n",
    "Типичный объект нашей выборки: автомобиль 2007 года выпуска, стоимостью 11900$, с пробегом примерно 283 км и мощностью 2.1."
   ]
  },
  {
   "cell_type": "markdown",
   "id": "c26eb49f",
   "metadata": {},
   "source": [
    "# Mistakes"
   ]
  },
  {
   "cell_type": "code",
   "execution_count": 13,
   "id": "5a9a8a18",
   "metadata": {},
   "outputs": [
    {
     "data": {
      "text/html": [
       "<div>\n",
       "<style scoped>\n",
       "    .dataframe tbody tr th:only-of-type {\n",
       "        vertical-align: middle;\n",
       "    }\n",
       "\n",
       "    .dataframe tbody tr th {\n",
       "        vertical-align: top;\n",
       "    }\n",
       "\n",
       "    .dataframe thead th {\n",
       "        text-align: right;\n",
       "    }\n",
       "</style>\n",
       "<table border=\"1\" class=\"dataframe\">\n",
       "  <thead>\n",
       "    <tr style=\"text-align: right;\">\n",
       "      <th></th>\n",
       "      <th>year</th>\n",
       "      <th>price</th>\n",
       "      <th>car_mileage</th>\n",
       "      <th>power</th>\n",
       "    </tr>\n",
       "  </thead>\n",
       "  <tbody>\n",
       "    <tr>\n",
       "      <th>count</th>\n",
       "      <td>217.000000</td>\n",
       "      <td>217.000000</td>\n",
       "      <td>217.000000</td>\n",
       "      <td>198.000000</td>\n",
       "    </tr>\n",
       "    <tr>\n",
       "      <th>mean</th>\n",
       "      <td>2007.834101</td>\n",
       "      <td>10830.829493</td>\n",
       "      <td>287.285714</td>\n",
       "      <td>2.190354</td>\n",
       "    </tr>\n",
       "    <tr>\n",
       "      <th>std</th>\n",
       "      <td>5.827786</td>\n",
       "      <td>5425.222107</td>\n",
       "      <td>543.346508</td>\n",
       "      <td>0.385365</td>\n",
       "    </tr>\n",
       "    <tr>\n",
       "      <th>min</th>\n",
       "      <td>1989.000000</td>\n",
       "      <td>1880.000000</td>\n",
       "      <td>1.000000</td>\n",
       "      <td>1.000000</td>\n",
       "    </tr>\n",
       "    <tr>\n",
       "      <th>25%</th>\n",
       "      <td>2004.000000</td>\n",
       "      <td>6999.000000</td>\n",
       "      <td>170.000000</td>\n",
       "      <td>2.000000</td>\n",
       "    </tr>\n",
       "    <tr>\n",
       "      <th>50%</th>\n",
       "      <td>2008.000000</td>\n",
       "      <td>9600.000000</td>\n",
       "      <td>230.000000</td>\n",
       "      <td>2.200000</td>\n",
       "    </tr>\n",
       "    <tr>\n",
       "      <th>75%</th>\n",
       "      <td>2013.000000</td>\n",
       "      <td>13999.000000</td>\n",
       "      <td>315.000000</td>\n",
       "      <td>2.500000</td>\n",
       "    </tr>\n",
       "    <tr>\n",
       "      <th>max</th>\n",
       "      <td>2018.000000</td>\n",
       "      <td>29400.000000</td>\n",
       "      <td>8000.000000</td>\n",
       "      <td>3.500000</td>\n",
       "    </tr>\n",
       "  </tbody>\n",
       "</table>\n",
       "</div>"
      ],
      "text/plain": [
       "              year         price  car_mileage       power\n",
       "count   217.000000    217.000000   217.000000  198.000000\n",
       "mean   2007.834101  10830.829493   287.285714    2.190354\n",
       "std       5.827786   5425.222107   543.346508    0.385365\n",
       "min    1989.000000   1880.000000     1.000000    1.000000\n",
       "25%    2004.000000   6999.000000   170.000000    2.000000\n",
       "50%    2008.000000   9600.000000   230.000000    2.200000\n",
       "75%    2013.000000  13999.000000   315.000000    2.500000\n",
       "max    2018.000000  29400.000000  8000.000000    3.500000"
      ]
     },
     "execution_count": 13,
     "metadata": {},
     "output_type": "execute_result"
    }
   ],
   "source": [
    "df = df.drop(df[df.price > 40000].index)\n",
    "df.describe()"
   ]
  },
  {
   "cell_type": "markdown",
   "id": "4cc698c2",
   "metadata": {},
   "source": [
    "Мы видим, что удалились 3 значения нетипичные для нашей выборки."
   ]
  },
  {
   "cell_type": "code",
   "execution_count": 14,
   "id": "a990a050",
   "metadata": {},
   "outputs": [
    {
     "data": {
      "text/plain": [
       "brand            0\n",
       "model            0\n",
       "year             0\n",
       "body             0\n",
       "price            0\n",
       "car_mileage      0\n",
       "fuel            19\n",
       "power           19\n",
       "transmission     0\n",
       "dtype: int64"
      ]
     },
     "execution_count": 14,
     "metadata": {},
     "output_type": "execute_result"
    }
   ],
   "source": [
    "df.isnull().sum()"
   ]
  },
  {
   "cell_type": "code",
   "execution_count": 15,
   "id": "118b8a76",
   "metadata": {},
   "outputs": [
    {
     "data": {
      "text/plain": [
       "brand            object\n",
       "model            object\n",
       "year              int64\n",
       "body             object\n",
       "price             int64\n",
       "car_mileage       int64\n",
       "fuel             object\n",
       "power           float64\n",
       "transmission     object\n",
       "dtype: object"
      ]
     },
     "execution_count": 15,
     "metadata": {},
     "output_type": "execute_result"
    }
   ],
   "source": [
    "df.dtypes"
   ]
  },
  {
   "cell_type": "code",
   "execution_count": 16,
   "id": "44224cf4",
   "metadata": {},
   "outputs": [],
   "source": [
    "#!pip install sklearn"
   ]
  },
  {
   "cell_type": "markdown",
   "id": "244bc733",
   "metadata": {},
   "source": [
    "# Missing data"
   ]
  },
  {
   "cell_type": "code",
   "execution_count": 17,
   "id": "a6fa5783",
   "metadata": {},
   "outputs": [],
   "source": [
    "dfm = df\n",
    "\n",
    "from sklearn.impute import SimpleImputer\n",
    "\n",
    "power_mean = SimpleImputer(missing_values=np.nan, strategy='mean')\n",
    "dfm[['power']] = power_mean.fit_transform(dfm[['power']]).round()\n",
    "\n",
    "fuel_freq = SimpleImputer(missing_values=np.nan, strategy='most_frequent')\n",
    "dfm[['fuel']] = fuel_freq.fit_transform(dfm[['fuel']])\n"
   ]
  },
  {
   "cell_type": "code",
   "execution_count": 18,
   "id": "7a85485d",
   "metadata": {},
   "outputs": [
    {
     "data": {
      "text/plain": [
       "brand           0\n",
       "model           0\n",
       "year            0\n",
       "body            0\n",
       "price           0\n",
       "car_mileage     0\n",
       "fuel            0\n",
       "power           0\n",
       "transmission    0\n",
       "dtype: int64"
      ]
     },
     "execution_count": 18,
     "metadata": {},
     "output_type": "execute_result"
    }
   ],
   "source": [
    "dfm.isnull().sum()"
   ]
  },
  {
   "cell_type": "markdown",
   "id": "9d83f608",
   "metadata": {},
   "source": [
    "# Log"
   ]
  },
  {
   "cell_type": "code",
   "execution_count": 19,
   "id": "3d123a36",
   "metadata": {},
   "outputs": [],
   "source": [
    "#!pip install seaborn"
   ]
  },
  {
   "cell_type": "code",
   "execution_count": 20,
   "id": "62822b25",
   "metadata": {},
   "outputs": [
    {
     "data": {
      "text/plain": [
       "<seaborn.axisgrid.PairGrid at 0x26629422a90>"
      ]
     },
     "execution_count": 20,
     "metadata": {},
     "output_type": "execute_result"
    },
    {
     "data": {
      "image/png": "[encoded data removed]",
      "text/plain": [
       "<Figure size 720x720 with 20 Axes>"
      ]
     },
     "metadata": {},
     "output_type": "display_data"
    }
   ],
   "source": [
    "df[['car_mileage', 'price']] = np.log(df[['car_mileage', 'price']])\n",
    "\n",
    "import seaborn as sns\n",
    "sns.set()\n",
    "sns.pairplot(df)"
   ]
  },
  {
   "cell_type": "markdown",
   "id": "59b5284e",
   "metadata": {},
   "source": [
    "Стоимость автомобилей лучше описывается годом выпуска и пробегом, чем мощностью."
   ]
  },
  {
   "cell_type": "markdown",
   "id": "a1b691eb",
   "metadata": {},
   "source": [
    "# Outliers"
   ]
  },
  {
   "cell_type": "code",
   "execution_count": 21,
   "id": "71ba84b6",
   "metadata": {},
   "outputs": [],
   "source": [
    "def outliers(df):\n",
    "    num_var = list(df._get_numeric_data().columns)\n",
    "    for col_names in num_var:\n",
    "        df[col_names] = df[col_names].apply(lambda y: df[col_names].mean()-3*df[col_names].std() \n",
    "                            if y < df[col_names].mean()-3*df[col_names].std() else y)\n",
    "        df[col_names] = df[col_names].apply(lambda y: df[col_names].mean()+3*df[col_names].std() \n",
    "                            if y > df[col_names].mean()+3*df[col_names].std() else y)\n",
    "    return(df)"
   ]
  },
  {
   "cell_type": "code",
   "execution_count": 22,
   "id": "8e0e017c",
   "metadata": {},
   "outputs": [
    {
     "data": {
      "text/html": [
       "<div>\n",
       "<style scoped>\n",
       "    .dataframe tbody tr th:only-of-type {\n",
       "        vertical-align: middle;\n",
       "    }\n",
       "\n",
       "    .dataframe tbody tr th {\n",
       "        vertical-align: top;\n",
       "    }\n",
       "\n",
       "    .dataframe thead th {\n",
       "        text-align: right;\n",
       "    }\n",
       "</style>\n",
       "<table border=\"1\" class=\"dataframe\">\n",
       "  <thead>\n",
       "    <tr style=\"text-align: right;\">\n",
       "      <th></th>\n",
       "      <th>year</th>\n",
       "      <th>price</th>\n",
       "      <th>car_mileage</th>\n",
       "      <th>power</th>\n",
       "    </tr>\n",
       "  </thead>\n",
       "  <tbody>\n",
       "    <tr>\n",
       "      <th>count</th>\n",
       "      <td>217.000000</td>\n",
       "      <td>217.000000</td>\n",
       "      <td>217.000000</td>\n",
       "      <td>217.000000</td>\n",
       "    </tr>\n",
       "    <tr>\n",
       "      <th>mean</th>\n",
       "      <td>2007.845175</td>\n",
       "      <td>9.163051</td>\n",
       "      <td>5.348765</td>\n",
       "      <td>2.093377</td>\n",
       "    </tr>\n",
       "    <tr>\n",
       "      <th>std</th>\n",
       "      <td>5.793428</td>\n",
       "      <td>0.522279</td>\n",
       "      <td>0.771058</td>\n",
       "      <td>0.334858</td>\n",
       "    </tr>\n",
       "    <tr>\n",
       "      <th>min</th>\n",
       "      <td>1990.350743</td>\n",
       "      <td>7.593644</td>\n",
       "      <td>2.212088</td>\n",
       "      <td>1.036748</td>\n",
       "    </tr>\n",
       "    <tr>\n",
       "      <th>25%</th>\n",
       "      <td>2004.000000</td>\n",
       "      <td>8.853523</td>\n",
       "      <td>5.135798</td>\n",
       "      <td>2.000000</td>\n",
       "    </tr>\n",
       "    <tr>\n",
       "      <th>50%</th>\n",
       "      <td>2008.000000</td>\n",
       "      <td>9.169518</td>\n",
       "      <td>5.438079</td>\n",
       "      <td>2.000000</td>\n",
       "    </tr>\n",
       "    <tr>\n",
       "      <th>75%</th>\n",
       "      <td>2013.000000</td>\n",
       "      <td>9.546741</td>\n",
       "      <td>5.752573</td>\n",
       "      <td>2.000000</td>\n",
       "    </tr>\n",
       "    <tr>\n",
       "      <th>max</th>\n",
       "      <td>2018.000000</td>\n",
       "      <td>10.288750</td>\n",
       "      <td>7.734639</td>\n",
       "      <td>3.152624</td>\n",
       "    </tr>\n",
       "  </tbody>\n",
       "</table>\n",
       "</div>"
      ],
      "text/plain": [
       "              year       price  car_mileage       power\n",
       "count   217.000000  217.000000   217.000000  217.000000\n",
       "mean   2007.845175    9.163051     5.348765    2.093377\n",
       "std       5.793428    0.522279     0.771058    0.334858\n",
       "min    1990.350743    7.593644     2.212088    1.036748\n",
       "25%    2004.000000    8.853523     5.135798    2.000000\n",
       "50%    2008.000000    9.169518     5.438079    2.000000\n",
       "75%    2013.000000    9.546741     5.752573    2.000000\n",
       "max    2018.000000   10.288750     7.734639    3.152624"
      ]
     },
     "execution_count": 22,
     "metadata": {},
     "output_type": "execute_result"
    }
   ],
   "source": [
    "df = outliers(df)\n",
    "df.describe()"
   ]
  },
  {
   "cell_type": "markdown",
   "id": "94106ad9",
   "metadata": {},
   "source": [
    "# Encoding"
   ]
  },
  {
   "cell_type": "code",
   "execution_count": 23,
   "id": "45b177b3",
   "metadata": {},
   "outputs": [
    {
     "data": {
      "text/html": [
       "<div>\n",
       "<style scoped>\n",
       "    .dataframe tbody tr th:only-of-type {\n",
       "        vertical-align: middle;\n",
       "    }\n",
       "\n",
       "    .dataframe tbody tr th {\n",
       "        vertical-align: top;\n",
       "    }\n",
       "\n",
       "    .dataframe thead th {\n",
       "        text-align: right;\n",
       "    }\n",
       "</style>\n",
       "<table border=\"1\" class=\"dataframe\">\n",
       "  <thead>\n",
       "    <tr style=\"text-align: right;\">\n",
       "      <th></th>\n",
       "      <th>brand</th>\n",
       "      <th>model</th>\n",
       "      <th>year</th>\n",
       "      <th>body</th>\n",
       "      <th>price</th>\n",
       "      <th>car_mileage</th>\n",
       "      <th>fuel</th>\n",
       "      <th>power</th>\n",
       "      <th>transmission</th>\n",
       "    </tr>\n",
       "  </thead>\n",
       "  <tbody>\n",
       "    <tr>\n",
       "      <th>0</th>\n",
       "      <td>ford</td>\n",
       "      <td>transit</td>\n",
       "      <td>2006.0</td>\n",
       "      <td>other</td>\n",
       "      <td>8.584852</td>\n",
       "      <td>5.393628</td>\n",
       "      <td>diesel</td>\n",
       "      <td>2.0</td>\n",
       "      <td>2</td>\n",
       "    </tr>\n",
       "    <tr>\n",
       "      <th>1</th>\n",
       "      <td>renault</td>\n",
       "      <td>master</td>\n",
       "      <td>2017.0</td>\n",
       "      <td>other</td>\n",
       "      <td>9.740969</td>\n",
       "      <td>5.351858</td>\n",
       "      <td>diesel</td>\n",
       "      <td>2.0</td>\n",
       "      <td>2</td>\n",
       "    </tr>\n",
       "    <tr>\n",
       "      <th>2</th>\n",
       "      <td>opel</td>\n",
       "      <td>vivaro</td>\n",
       "      <td>2015.0</td>\n",
       "      <td>other</td>\n",
       "      <td>9.629051</td>\n",
       "      <td>5.056246</td>\n",
       "      <td>diesel</td>\n",
       "      <td>2.0</td>\n",
       "      <td>2</td>\n",
       "    </tr>\n",
       "    <tr>\n",
       "      <th>3</th>\n",
       "      <td>ford</td>\n",
       "      <td>transit</td>\n",
       "      <td>2000.0</td>\n",
       "      <td>other</td>\n",
       "      <td>8.516993</td>\n",
       "      <td>5.703782</td>\n",
       "      <td>diesel</td>\n",
       "      <td>2.0</td>\n",
       "      <td>2</td>\n",
       "    </tr>\n",
       "    <tr>\n",
       "      <th>4</th>\n",
       "      <td>mercedes-benz</td>\n",
       "      <td>sprinter</td>\n",
       "      <td>2010.0</td>\n",
       "      <td>other</td>\n",
       "      <td>9.937889</td>\n",
       "      <td>6.525030</td>\n",
       "      <td>diesel</td>\n",
       "      <td>3.0</td>\n",
       "      <td>1</td>\n",
       "    </tr>\n",
       "  </tbody>\n",
       "</table>\n",
       "</div>"
      ],
      "text/plain": [
       "           brand     model    year   body     price  car_mileage    fuel  \\\n",
       "0           ford   transit  2006.0  other  8.584852     5.393628  diesel   \n",
       "1        renault    master  2017.0  other  9.740969     5.351858  diesel   \n",
       "2           opel    vivaro  2015.0  other  9.629051     5.056246  diesel   \n",
       "3           ford   transit  2000.0  other  8.516993     5.703782  diesel   \n",
       "4  mercedes-benz  sprinter  2010.0  other  9.937889     6.525030  diesel   \n",
       "\n",
       "   power  transmission  \n",
       "0    2.0             2  \n",
       "1    2.0             2  \n",
       "2    2.0             2  \n",
       "3    2.0             2  \n",
       "4    3.0             1  "
      ]
     },
     "execution_count": 23,
     "metadata": {},
     "output_type": "execute_result"
    }
   ],
   "source": [
    "from sklearn import preprocessing\n",
    "dfm = df\n",
    "dfm['transmission'] = preprocessing.LabelEncoder().fit_transform(dfm['transmission'])\n",
    "dfm.head(5)"
   ]
  },
  {
   "cell_type": "code",
   "execution_count": 24,
   "id": "97d8cf6a",
   "metadata": {},
   "outputs": [
    {
     "data": {
      "text/html": [
       "<div>\n",
       "<style scoped>\n",
       "    .dataframe tbody tr th:only-of-type {\n",
       "        vertical-align: middle;\n",
       "    }\n",
       "\n",
       "    .dataframe tbody tr th {\n",
       "        vertical-align: top;\n",
       "    }\n",
       "\n",
       "    .dataframe thead th {\n",
       "        text-align: right;\n",
       "    }\n",
       "</style>\n",
       "<table border=\"1\" class=\"dataframe\">\n",
       "  <thead>\n",
       "    <tr style=\"text-align: right;\">\n",
       "      <th></th>\n",
       "      <th>brand</th>\n",
       "      <th>model</th>\n",
       "      <th>year</th>\n",
       "      <th>body</th>\n",
       "      <th>price</th>\n",
       "      <th>car_mileage</th>\n",
       "      <th>fuel</th>\n",
       "      <th>power</th>\n",
       "      <th>transmission</th>\n",
       "    </tr>\n",
       "  </thead>\n",
       "  <tbody>\n",
       "    <tr>\n",
       "      <th>0</th>\n",
       "      <td>ford</td>\n",
       "      <td>transit</td>\n",
       "      <td>2006.0</td>\n",
       "      <td>other</td>\n",
       "      <td>8.584852</td>\n",
       "      <td>5.393628</td>\n",
       "      <td>0</td>\n",
       "      <td>2.0</td>\n",
       "      <td>2</td>\n",
       "    </tr>\n",
       "    <tr>\n",
       "      <th>1</th>\n",
       "      <td>renault</td>\n",
       "      <td>master</td>\n",
       "      <td>2017.0</td>\n",
       "      <td>other</td>\n",
       "      <td>9.740969</td>\n",
       "      <td>5.351858</td>\n",
       "      <td>0</td>\n",
       "      <td>2.0</td>\n",
       "      <td>2</td>\n",
       "    </tr>\n",
       "    <tr>\n",
       "      <th>2</th>\n",
       "      <td>opel</td>\n",
       "      <td>vivaro</td>\n",
       "      <td>2015.0</td>\n",
       "      <td>other</td>\n",
       "      <td>9.629051</td>\n",
       "      <td>5.056246</td>\n",
       "      <td>0</td>\n",
       "      <td>2.0</td>\n",
       "      <td>2</td>\n",
       "    </tr>\n",
       "    <tr>\n",
       "      <th>3</th>\n",
       "      <td>ford</td>\n",
       "      <td>transit</td>\n",
       "      <td>2000.0</td>\n",
       "      <td>other</td>\n",
       "      <td>8.516993</td>\n",
       "      <td>5.703782</td>\n",
       "      <td>0</td>\n",
       "      <td>2.0</td>\n",
       "      <td>2</td>\n",
       "    </tr>\n",
       "    <tr>\n",
       "      <th>4</th>\n",
       "      <td>mercedes-benz</td>\n",
       "      <td>sprinter</td>\n",
       "      <td>2010.0</td>\n",
       "      <td>other</td>\n",
       "      <td>9.937889</td>\n",
       "      <td>6.525030</td>\n",
       "      <td>0</td>\n",
       "      <td>3.0</td>\n",
       "      <td>1</td>\n",
       "    </tr>\n",
       "  </tbody>\n",
       "</table>\n",
       "</div>"
      ],
      "text/plain": [
       "           brand     model    year   body     price  car_mileage  fuel  power  \\\n",
       "0           ford   transit  2006.0  other  8.584852     5.393628     0    2.0   \n",
       "1        renault    master  2017.0  other  9.740969     5.351858     0    2.0   \n",
       "2           opel    vivaro  2015.0  other  9.629051     5.056246     0    2.0   \n",
       "3           ford   transit  2000.0  other  8.516993     5.703782     0    2.0   \n",
       "4  mercedes-benz  sprinter  2010.0  other  9.937889     6.525030     0    3.0   \n",
       "\n",
       "   transmission  \n",
       "0             2  \n",
       "1             2  \n",
       "2             2  \n",
       "3             2  \n",
       "4             1  "
      ]
     },
     "execution_count": 24,
     "metadata": {},
     "output_type": "execute_result"
    }
   ],
   "source": [
    "from sklearn import preprocessing\n",
    "dfm = df\n",
    "dfm['fuel'] = preprocessing.LabelEncoder().fit_transform(dfm['fuel'])\n",
    "dfm.head(5)"
   ]
  },
  {
   "cell_type": "code",
   "execution_count": 25,
   "id": "bb0f8234",
   "metadata": {
    "scrolled": true
   },
   "outputs": [
    {
     "data": {
      "text/html": [
       "<div>\n",
       "<style scoped>\n",
       "    .dataframe tbody tr th:only-of-type {\n",
       "        vertical-align: middle;\n",
       "    }\n",
       "\n",
       "    .dataframe tbody tr th {\n",
       "        vertical-align: top;\n",
       "    }\n",
       "\n",
       "    .dataframe thead th {\n",
       "        text-align: right;\n",
       "    }\n",
       "</style>\n",
       "<table border=\"1\" class=\"dataframe\">\n",
       "  <thead>\n",
       "    <tr style=\"text-align: right;\">\n",
       "      <th></th>\n",
       "      <th>col</th>\n",
       "      <th>nunique</th>\n",
       "      <th>unique</th>\n",
       "      <th>type</th>\n",
       "    </tr>\n",
       "  </thead>\n",
       "  <tbody>\n",
       "    <tr>\n",
       "      <th>1</th>\n",
       "      <td>model</td>\n",
       "      <td>54</td>\n",
       "      <td>[transit, master, vivaro, sprinter, t4, 530, c...</td>\n",
       "      <td>object</td>\n",
       "    </tr>\n",
       "    <tr>\n",
       "      <th>0</th>\n",
       "      <td>brand</td>\n",
       "      <td>20</td>\n",
       "      <td>[ford, renault, opel, mercedes-benz, volkswage...</td>\n",
       "      <td>object</td>\n",
       "    </tr>\n",
       "    <tr>\n",
       "      <th>2</th>\n",
       "      <td>body</td>\n",
       "      <td>1</td>\n",
       "      <td>[other]</td>\n",
       "      <td>object</td>\n",
       "    </tr>\n",
       "  </tbody>\n",
       "</table>\n",
       "</div>"
      ],
      "text/plain": [
       "     col  nunique                                             unique    type\n",
       "1  model       54  [transit, master, vivaro, sprinter, t4, 530, c...  object\n",
       "0  brand       20  [ford, renault, opel, mercedes-benz, volkswage...  object\n",
       "2   body        1                                            [other]  object"
      ]
     },
     "execution_count": 25,
     "metadata": {},
     "output_type": "execute_result"
    }
   ],
   "source": [
    "df3 = dfm[['brand','model','body']]\n",
    "info = []\n",
    "for column in df3.columns:\n",
    "        vals = {\"col\": column,\n",
    "                \"nunique\": df3[column].nunique(),\n",
    "                \"unique\": df3[column].unique(),\n",
    "                \"type\": df3[column].dtype\n",
    "               }\n",
    "        info.append(vals)\n",
    "pd.DataFrame(info).sort_values(by = \"col\", ascending = False)"
   ]
  },
  {
   "cell_type": "code",
   "execution_count": 26,
   "id": "a730ca00",
   "metadata": {},
   "outputs": [
    {
     "data": {
      "text/plain": [
       "(217, 7)"
      ]
     },
     "execution_count": 26,
     "metadata": {},
     "output_type": "execute_result"
    }
   ],
   "source": [
    "dfr = df.drop(['model','body'], axis='columns', inplace=False)\n",
    "dfr.shape"
   ]
  },
  {
   "cell_type": "code",
   "execution_count": 27,
   "id": "a2713916",
   "metadata": {},
   "outputs": [
    {
     "data": {
      "text/html": [
       "<div>\n",
       "<style scoped>\n",
       "    .dataframe tbody tr th:only-of-type {\n",
       "        vertical-align: middle;\n",
       "    }\n",
       "\n",
       "    .dataframe tbody tr th {\n",
       "        vertical-align: top;\n",
       "    }\n",
       "\n",
       "    .dataframe thead th {\n",
       "        text-align: right;\n",
       "    }\n",
       "</style>\n",
       "<table border=\"1\" class=\"dataframe\">\n",
       "  <thead>\n",
       "    <tr style=\"text-align: right;\">\n",
       "      <th></th>\n",
       "      <th>brand</th>\n",
       "      <th>year</th>\n",
       "      <th>price</th>\n",
       "      <th>car_mileage</th>\n",
       "      <th>fuel</th>\n",
       "      <th>power</th>\n",
       "      <th>transmission</th>\n",
       "    </tr>\n",
       "  </thead>\n",
       "  <tbody>\n",
       "    <tr>\n",
       "      <th>0</th>\n",
       "      <td>0</td>\n",
       "      <td>2006.0</td>\n",
       "      <td>8.584852</td>\n",
       "      <td>5.393628</td>\n",
       "      <td>0</td>\n",
       "      <td>2.0</td>\n",
       "      <td>2</td>\n",
       "    </tr>\n",
       "    <tr>\n",
       "      <th>1</th>\n",
       "      <td>1</td>\n",
       "      <td>2017.0</td>\n",
       "      <td>9.740969</td>\n",
       "      <td>5.351858</td>\n",
       "      <td>0</td>\n",
       "      <td>2.0</td>\n",
       "      <td>2</td>\n",
       "    </tr>\n",
       "    <tr>\n",
       "      <th>2</th>\n",
       "      <td>2</td>\n",
       "      <td>2015.0</td>\n",
       "      <td>9.629051</td>\n",
       "      <td>5.056246</td>\n",
       "      <td>0</td>\n",
       "      <td>2.0</td>\n",
       "      <td>2</td>\n",
       "    </tr>\n",
       "    <tr>\n",
       "      <th>3</th>\n",
       "      <td>0</td>\n",
       "      <td>2000.0</td>\n",
       "      <td>8.516993</td>\n",
       "      <td>5.703782</td>\n",
       "      <td>0</td>\n",
       "      <td>2.0</td>\n",
       "      <td>2</td>\n",
       "    </tr>\n",
       "    <tr>\n",
       "      <th>4</th>\n",
       "      <td>3</td>\n",
       "      <td>2010.0</td>\n",
       "      <td>9.937889</td>\n",
       "      <td>6.525030</td>\n",
       "      <td>0</td>\n",
       "      <td>3.0</td>\n",
       "      <td>1</td>\n",
       "    </tr>\n",
       "    <tr>\n",
       "      <th>...</th>\n",
       "      <td>...</td>\n",
       "      <td>...</td>\n",
       "      <td>...</td>\n",
       "      <td>...</td>\n",
       "      <td>...</td>\n",
       "      <td>...</td>\n",
       "      <td>...</td>\n",
       "    </tr>\n",
       "    <tr>\n",
       "      <th>215</th>\n",
       "      <td>0</td>\n",
       "      <td>2016.0</td>\n",
       "      <td>9.546741</td>\n",
       "      <td>5.135798</td>\n",
       "      <td>0</td>\n",
       "      <td>2.0</td>\n",
       "      <td>2</td>\n",
       "    </tr>\n",
       "    <tr>\n",
       "      <th>216</th>\n",
       "      <td>4</td>\n",
       "      <td>2010.0</td>\n",
       "      <td>9.332558</td>\n",
       "      <td>5.509388</td>\n",
       "      <td>0</td>\n",
       "      <td>2.0</td>\n",
       "      <td>2</td>\n",
       "    </tr>\n",
       "    <tr>\n",
       "      <th>217</th>\n",
       "      <td>3</td>\n",
       "      <td>2000.0</td>\n",
       "      <td>8.517193</td>\n",
       "      <td>5.521461</td>\n",
       "      <td>0</td>\n",
       "      <td>3.0</td>\n",
       "      <td>2</td>\n",
       "    </tr>\n",
       "    <tr>\n",
       "      <th>218</th>\n",
       "      <td>3</td>\n",
       "      <td>2001.0</td>\n",
       "      <td>8.922658</td>\n",
       "      <td>5.913503</td>\n",
       "      <td>0</td>\n",
       "      <td>2.0</td>\n",
       "      <td>1</td>\n",
       "    </tr>\n",
       "    <tr>\n",
       "      <th>219</th>\n",
       "      <td>2</td>\n",
       "      <td>2006.0</td>\n",
       "      <td>8.881836</td>\n",
       "      <td>5.398163</td>\n",
       "      <td>0</td>\n",
       "      <td>2.0</td>\n",
       "      <td>2</td>\n",
       "    </tr>\n",
       "  </tbody>\n",
       "</table>\n",
       "<p>217 rows × 7 columns</p>\n",
       "</div>"
      ],
      "text/plain": [
       "     brand    year     price  car_mileage  fuel  power  transmission\n",
       "0        0  2006.0  8.584852     5.393628     0    2.0             2\n",
       "1        1  2017.0  9.740969     5.351858     0    2.0             2\n",
       "2        2  2015.0  9.629051     5.056246     0    2.0             2\n",
       "3        0  2000.0  8.516993     5.703782     0    2.0             2\n",
       "4        3  2010.0  9.937889     6.525030     0    3.0             1\n",
       "..     ...     ...       ...          ...   ...    ...           ...\n",
       "215      0  2016.0  9.546741     5.135798     0    2.0             2\n",
       "216      4  2010.0  9.332558     5.509388     0    2.0             2\n",
       "217      3  2000.0  8.517193     5.521461     0    3.0             2\n",
       "218      3  2001.0  8.922658     5.913503     0    2.0             1\n",
       "219      2  2006.0  8.881836     5.398163     0    2.0             2\n",
       "\n",
       "[217 rows x 7 columns]"
      ]
     },
     "execution_count": 27,
     "metadata": {},
     "output_type": "execute_result"
    }
   ],
   "source": [
    "fm = {'ford':0, 'renault':1, 'opel':2, 'mercedes-benz':3, 'volkswagen':4, 'bmw':5, 'smart':6, 'fiat':7, 'mitsubishi':8, 'audi':9, 'dacia':10, 'toyota':11, 'ваз':12, 'nissan':13, 'citroen':14, 'mini':15, 'kia':16, 'peugeot':17, 'газ':18, 'hyundai':19}\n",
    "dfr['brand'] = dfr['brand'].map(fm)\n",
    "dfr"
   ]
  },
  {
   "cell_type": "markdown",
   "id": "d5ba1723",
   "metadata": {},
   "source": [
    "# Correlations"
   ]
  },
  {
   "cell_type": "code",
   "execution_count": 28,
   "id": "f92a18c8",
   "metadata": {},
   "outputs": [
    {
     "data": {
      "image/png": "[encoded data removed]",
      "text/plain": [
       "<Figure size 864x648 with 2 Axes>"
      ]
     },
     "metadata": {},
     "output_type": "display_data"
    }
   ],
   "source": [
    "import seaborn as sns\n",
    "corrmat = dfr.corr()\n",
    "f, ax = plt.subplots(figsize=(12, 9))\n",
    "sns.heatmap(corrmat, annot=True)\n",
    "plt.show()"
   ]
  },
  {
   "cell_type": "markdown",
   "id": "41a30d1a",
   "metadata": {},
   "source": [
    "Наибольшую корреляцию с ценой даёт год выпуска."
   ]
  },
  {
   "cell_type": "code",
   "execution_count": 29,
   "id": "35353c07",
   "metadata": {},
   "outputs": [],
   "source": [
    "dfr.to_csv('auto1_prep.csv', sep=',', index=False)"
   ]
  },
  {
   "cell_type": "code",
   "execution_count": null,
   "id": "69e4b772",
   "metadata": {},
   "outputs": [],
   "source": []
  }
 ],
 "metadata": {
  "kernelspec": {
   "display_name": "Python 3",
   "language": "python",
   "name": "python3"
  },
  "language_info": {
   "codemirror_mode": {
    "name": "ipython",
    "version": 3
   },
   "file_extension": ".py",
   "mimetype": "text/x-python",
   "name": "python",
   "nbconvert_exporter": "python",
   "pygments_lexer": "ipython3",
   "version": "3.8.8"
  }
 },
 "nbformat": 4,
 "nbformat_minor": 5
}
