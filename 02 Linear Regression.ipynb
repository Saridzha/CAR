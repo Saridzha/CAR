{
 "cells": [
  {
   "cell_type": "code",
   "execution_count": 35,
   "id": "f69222a0",
   "metadata": {},
   "outputs": [
    {
     "data": {
      "text/html": [
       "<script>\n",
       "code_show=true; \n",
       "function code_toggle() {\n",
       " if (code_show){\n",
       " $('div.input').hide();\n",
       " } else {\n",
       " $('div.input').show();\n",
       " }\n",
       " code_show = !code_show\n",
       "} \n",
       "$( document ).ready(code_toggle);\n",
       "</script>\n",
       "<form action=\"javascript:code_toggle()\"><input type=\"submit\" value=\"Click here to toggle on/off the raw code.\"></form>"
      ],
      "text/plain": [
       "<IPython.core.display.HTML object>"
      ]
     },
     "execution_count": 35,
     "metadata": {},
     "output_type": "execute_result"
    }
   ],
   "source": [
    "from IPython.display import HTML\n",
    "\n",
    "HTML('''<script>\n",
    "code_show=true; \n",
    "function code_toggle() {\n",
    " if (code_show){\n",
    " $('div.input').hide();\n",
    " } else {\n",
    " $('div.input').show();\n",
    " }\n",
    " code_show = !code_show\n",
    "} \n",
    "$( document ).ready(code_toggle);\n",
    "</script>\n",
    "<form action=\"javascript:code_toggle()\"><input type=\"submit\" value=\"Click here to toggle on/off the raw code.\"></form>''')"
   ]
  },
  {
   "cell_type": "markdown",
   "id": "e7e34758",
   "metadata": {},
   "source": [
    "# Importing data"
   ]
  },
  {
   "cell_type": "code",
   "execution_count": 1,
   "id": "e267a58a",
   "metadata": {},
   "outputs": [],
   "source": [
    "import numpy as np\n",
    "import matplotlib.pyplot as plt\n",
    "import pandas as pd"
   ]
  },
  {
   "cell_type": "code",
   "execution_count": 2,
   "id": "b05f19a8",
   "metadata": {},
   "outputs": [
    {
     "data": {
      "text/html": [
       "<div>\n",
       "<style scoped>\n",
       "    .dataframe tbody tr th:only-of-type {\n",
       "        vertical-align: middle;\n",
       "    }\n",
       "\n",
       "    .dataframe tbody tr th {\n",
       "        vertical-align: top;\n",
       "    }\n",
       "\n",
       "    .dataframe thead th {\n",
       "        text-align: right;\n",
       "    }\n",
       "</style>\n",
       "<table border=\"1\" class=\"dataframe\">\n",
       "  <thead>\n",
       "    <tr style=\"text-align: right;\">\n",
       "      <th></th>\n",
       "      <th>brand</th>\n",
       "      <th>year</th>\n",
       "      <th>price</th>\n",
       "      <th>car_mileage</th>\n",
       "      <th>fuel</th>\n",
       "      <th>power</th>\n",
       "      <th>transmission</th>\n",
       "    </tr>\n",
       "  </thead>\n",
       "  <tbody>\n",
       "    <tr>\n",
       "      <th>0</th>\n",
       "      <td>0</td>\n",
       "      <td>2006.0</td>\n",
       "      <td>8.584852</td>\n",
       "      <td>5.393628</td>\n",
       "      <td>0</td>\n",
       "      <td>2.0</td>\n",
       "      <td>2</td>\n",
       "    </tr>\n",
       "    <tr>\n",
       "      <th>1</th>\n",
       "      <td>1</td>\n",
       "      <td>2017.0</td>\n",
       "      <td>9.740969</td>\n",
       "      <td>5.351858</td>\n",
       "      <td>0</td>\n",
       "      <td>2.0</td>\n",
       "      <td>2</td>\n",
       "    </tr>\n",
       "    <tr>\n",
       "      <th>2</th>\n",
       "      <td>2</td>\n",
       "      <td>2015.0</td>\n",
       "      <td>9.629051</td>\n",
       "      <td>5.056246</td>\n",
       "      <td>0</td>\n",
       "      <td>2.0</td>\n",
       "      <td>2</td>\n",
       "    </tr>\n",
       "    <tr>\n",
       "      <th>3</th>\n",
       "      <td>0</td>\n",
       "      <td>2000.0</td>\n",
       "      <td>8.516993</td>\n",
       "      <td>5.703782</td>\n",
       "      <td>0</td>\n",
       "      <td>2.0</td>\n",
       "      <td>2</td>\n",
       "    </tr>\n",
       "    <tr>\n",
       "      <th>4</th>\n",
       "      <td>3</td>\n",
       "      <td>2010.0</td>\n",
       "      <td>9.937889</td>\n",
       "      <td>6.525030</td>\n",
       "      <td>0</td>\n",
       "      <td>3.0</td>\n",
       "      <td>1</td>\n",
       "    </tr>\n",
       "    <tr>\n",
       "      <th>...</th>\n",
       "      <td>...</td>\n",
       "      <td>...</td>\n",
       "      <td>...</td>\n",
       "      <td>...</td>\n",
       "      <td>...</td>\n",
       "      <td>...</td>\n",
       "      <td>...</td>\n",
       "    </tr>\n",
       "    <tr>\n",
       "      <th>212</th>\n",
       "      <td>0</td>\n",
       "      <td>2016.0</td>\n",
       "      <td>9.546741</td>\n",
       "      <td>5.135798</td>\n",
       "      <td>0</td>\n",
       "      <td>2.0</td>\n",
       "      <td>2</td>\n",
       "    </tr>\n",
       "    <tr>\n",
       "      <th>213</th>\n",
       "      <td>4</td>\n",
       "      <td>2010.0</td>\n",
       "      <td>9.332558</td>\n",
       "      <td>5.509388</td>\n",
       "      <td>0</td>\n",
       "      <td>2.0</td>\n",
       "      <td>2</td>\n",
       "    </tr>\n",
       "    <tr>\n",
       "      <th>214</th>\n",
       "      <td>3</td>\n",
       "      <td>2000.0</td>\n",
       "      <td>8.517193</td>\n",
       "      <td>5.521461</td>\n",
       "      <td>0</td>\n",
       "      <td>3.0</td>\n",
       "      <td>2</td>\n",
       "    </tr>\n",
       "    <tr>\n",
       "      <th>215</th>\n",
       "      <td>3</td>\n",
       "      <td>2001.0</td>\n",
       "      <td>8.922658</td>\n",
       "      <td>5.913503</td>\n",
       "      <td>0</td>\n",
       "      <td>2.0</td>\n",
       "      <td>1</td>\n",
       "    </tr>\n",
       "    <tr>\n",
       "      <th>216</th>\n",
       "      <td>2</td>\n",
       "      <td>2006.0</td>\n",
       "      <td>8.881836</td>\n",
       "      <td>5.398163</td>\n",
       "      <td>0</td>\n",
       "      <td>2.0</td>\n",
       "      <td>2</td>\n",
       "    </tr>\n",
       "  </tbody>\n",
       "</table>\n",
       "<p>217 rows × 7 columns</p>\n",
       "</div>"
      ],
      "text/plain": [
       "     brand    year     price  car_mileage  fuel  power  transmission\n",
       "0        0  2006.0  8.584852     5.393628     0    2.0             2\n",
       "1        1  2017.0  9.740969     5.351858     0    2.0             2\n",
       "2        2  2015.0  9.629051     5.056246     0    2.0             2\n",
       "3        0  2000.0  8.516993     5.703782     0    2.0             2\n",
       "4        3  2010.0  9.937889     6.525030     0    3.0             1\n",
       "..     ...     ...       ...          ...   ...    ...           ...\n",
       "212      0  2016.0  9.546741     5.135798     0    2.0             2\n",
       "213      4  2010.0  9.332558     5.509388     0    2.0             2\n",
       "214      3  2000.0  8.517193     5.521461     0    3.0             2\n",
       "215      3  2001.0  8.922658     5.913503     0    2.0             1\n",
       "216      2  2006.0  8.881836     5.398163     0    2.0             2\n",
       "\n",
       "[217 rows x 7 columns]"
      ]
     },
     "execution_count": 2,
     "metadata": {},
     "output_type": "execute_result"
    }
   ],
   "source": [
    "df = pd.read_csv('auto1_prep.csv', sep=',')\n",
    "df"
   ]
  },
  {
   "cell_type": "markdown",
   "id": "1c11b1d9",
   "metadata": {},
   "source": [
    "# Correlations"
   ]
  },
  {
   "cell_type": "code",
   "execution_count": 4,
   "id": "7daf9f97",
   "metadata": {},
   "outputs": [
    {
     "data": {
      "image/png": "[encoded data removed]",
      "text/plain": [
       "<Figure size 864x648 with 2 Axes>"
      ]
     },
     "metadata": {
      "needs_background": "light"
     },
     "output_type": "display_data"
    }
   ],
   "source": [
    "import seaborn as sns\n",
    "corrmat = df.corr()\n",
    "f, ax = plt.subplots(figsize=(12, 9))\n",
    "sns.heatmap(corrmat, annot=True)\n",
    "plt.show()"
   ]
  },
  {
   "cell_type": "markdown",
   "id": "d05961e2",
   "metadata": {},
   "source": [
    "Наибольшую корреляцию с ценой даёт год выпуска.\n",
    "Таким образом, мы будем строить однофакторную модель: зависимость цены от года выпуска автомобиля."
   ]
  },
  {
   "cell_type": "markdown",
   "id": "b399f743",
   "metadata": {},
   "source": [
    "# Splitting"
   ]
  },
  {
   "cell_type": "code",
   "execution_count": 5,
   "id": "a5ae956f",
   "metadata": {},
   "outputs": [
    {
     "data": {
      "text/html": [
       "<div>\n",
       "<style scoped>\n",
       "    .dataframe tbody tr th:only-of-type {\n",
       "        vertical-align: middle;\n",
       "    }\n",
       "\n",
       "    .dataframe tbody tr th {\n",
       "        vertical-align: top;\n",
       "    }\n",
       "\n",
       "    .dataframe thead th {\n",
       "        text-align: right;\n",
       "    }\n",
       "</style>\n",
       "<table border=\"1\" class=\"dataframe\">\n",
       "  <thead>\n",
       "    <tr style=\"text-align: right;\">\n",
       "      <th></th>\n",
       "      <th>brand</th>\n",
       "      <th>year</th>\n",
       "      <th>car_mileage</th>\n",
       "      <th>fuel</th>\n",
       "      <th>power</th>\n",
       "      <th>transmission</th>\n",
       "    </tr>\n",
       "  </thead>\n",
       "  <tbody>\n",
       "    <tr>\n",
       "      <th>0</th>\n",
       "      <td>0</td>\n",
       "      <td>2006.0</td>\n",
       "      <td>5.393628</td>\n",
       "      <td>0</td>\n",
       "      <td>2.0</td>\n",
       "      <td>2</td>\n",
       "    </tr>\n",
       "    <tr>\n",
       "      <th>1</th>\n",
       "      <td>1</td>\n",
       "      <td>2017.0</td>\n",
       "      <td>5.351858</td>\n",
       "      <td>0</td>\n",
       "      <td>2.0</td>\n",
       "      <td>2</td>\n",
       "    </tr>\n",
       "    <tr>\n",
       "      <th>2</th>\n",
       "      <td>2</td>\n",
       "      <td>2015.0</td>\n",
       "      <td>5.056246</td>\n",
       "      <td>0</td>\n",
       "      <td>2.0</td>\n",
       "      <td>2</td>\n",
       "    </tr>\n",
       "    <tr>\n",
       "      <th>3</th>\n",
       "      <td>0</td>\n",
       "      <td>2000.0</td>\n",
       "      <td>5.703782</td>\n",
       "      <td>0</td>\n",
       "      <td>2.0</td>\n",
       "      <td>2</td>\n",
       "    </tr>\n",
       "    <tr>\n",
       "      <th>4</th>\n",
       "      <td>3</td>\n",
       "      <td>2010.0</td>\n",
       "      <td>6.525030</td>\n",
       "      <td>0</td>\n",
       "      <td>3.0</td>\n",
       "      <td>1</td>\n",
       "    </tr>\n",
       "    <tr>\n",
       "      <th>...</th>\n",
       "      <td>...</td>\n",
       "      <td>...</td>\n",
       "      <td>...</td>\n",
       "      <td>...</td>\n",
       "      <td>...</td>\n",
       "      <td>...</td>\n",
       "    </tr>\n",
       "    <tr>\n",
       "      <th>212</th>\n",
       "      <td>0</td>\n",
       "      <td>2016.0</td>\n",
       "      <td>5.135798</td>\n",
       "      <td>0</td>\n",
       "      <td>2.0</td>\n",
       "      <td>2</td>\n",
       "    </tr>\n",
       "    <tr>\n",
       "      <th>213</th>\n",
       "      <td>4</td>\n",
       "      <td>2010.0</td>\n",
       "      <td>5.509388</td>\n",
       "      <td>0</td>\n",
       "      <td>2.0</td>\n",
       "      <td>2</td>\n",
       "    </tr>\n",
       "    <tr>\n",
       "      <th>214</th>\n",
       "      <td>3</td>\n",
       "      <td>2000.0</td>\n",
       "      <td>5.521461</td>\n",
       "      <td>0</td>\n",
       "      <td>3.0</td>\n",
       "      <td>2</td>\n",
       "    </tr>\n",
       "    <tr>\n",
       "      <th>215</th>\n",
       "      <td>3</td>\n",
       "      <td>2001.0</td>\n",
       "      <td>5.913503</td>\n",
       "      <td>0</td>\n",
       "      <td>2.0</td>\n",
       "      <td>1</td>\n",
       "    </tr>\n",
       "    <tr>\n",
       "      <th>216</th>\n",
       "      <td>2</td>\n",
       "      <td>2006.0</td>\n",
       "      <td>5.398163</td>\n",
       "      <td>0</td>\n",
       "      <td>2.0</td>\n",
       "      <td>2</td>\n",
       "    </tr>\n",
       "  </tbody>\n",
       "</table>\n",
       "<p>217 rows × 6 columns</p>\n",
       "</div>"
      ],
      "text/plain": [
       "     brand    year  car_mileage  fuel  power  transmission\n",
       "0        0  2006.0     5.393628     0    2.0             2\n",
       "1        1  2017.0     5.351858     0    2.0             2\n",
       "2        2  2015.0     5.056246     0    2.0             2\n",
       "3        0  2000.0     5.703782     0    2.0             2\n",
       "4        3  2010.0     6.525030     0    3.0             1\n",
       "..     ...     ...          ...   ...    ...           ...\n",
       "212      0  2016.0     5.135798     0    2.0             2\n",
       "213      4  2010.0     5.509388     0    2.0             2\n",
       "214      3  2000.0     5.521461     0    3.0             2\n",
       "215      3  2001.0     5.913503     0    2.0             1\n",
       "216      2  2006.0     5.398163     0    2.0             2\n",
       "\n",
       "[217 rows x 6 columns]"
      ]
     },
     "execution_count": 5,
     "metadata": {},
     "output_type": "execute_result"
    }
   ],
   "source": [
    "X = df.iloc[:, [True,True,False,True,True,True,True]]\n",
    "y = df['price']\n",
    "from sklearn.model_selection import train_test_split\n",
    "X_train, X_test, y_train, y_test = train_test_split(X, y, test_size=0.2, random_state=10)\n",
    "X"
   ]
  },
  {
   "cell_type": "markdown",
   "id": "e620fc8a",
   "metadata": {},
   "source": [
    "# Simple Linear Regression"
   ]
  },
  {
   "cell_type": "code",
   "execution_count": 6,
   "id": "371c3c34",
   "metadata": {},
   "outputs": [
    {
     "data": {
      "text/plain": [
       "(array([0.06431211]), -119.97918461982725)"
      ]
     },
     "execution_count": 6,
     "metadata": {},
     "output_type": "execute_result"
    }
   ],
   "source": [
    "f1 = ['year']\n",
    "\n",
    "from sklearn.linear_model import LinearRegression\n",
    "sr = LinearRegression().fit(X_train[f1], y_train)\n",
    "\n",
    "sr.coef_, sr.intercept_"
   ]
  },
  {
   "cell_type": "markdown",
   "id": "1ae37df2",
   "metadata": {},
   "source": [
    "Т.е. price=0.064*year-119.979"
   ]
  },
  {
   "cell_type": "code",
   "execution_count": 7,
   "id": "a4f09665",
   "metadata": {},
   "outputs": [
    {
     "data": {
      "text/plain": [
       "(0.501, 0.429)"
      ]
     },
     "execution_count": 7,
     "metadata": {},
     "output_type": "execute_result"
    }
   ],
   "source": [
    "y_pred = sr.predict(X_test[f1])\n",
    "\n",
    "sr.score(X_train[f1], y_train).round(3), sr.score(X_test[f1], y_test).round(3)"
   ]
  },
  {
   "cell_type": "markdown",
   "id": "5aaa5a12",
   "metadata": {},
   "source": [
    "Год выпуска автомобиля на 50% объясняет вариацию цены."
   ]
  },
  {
   "cell_type": "code",
   "execution_count": 8,
   "id": "1febb8b8",
   "metadata": {},
   "outputs": [
    {
     "data": {
      "text/plain": [
       "(0.37, 0.37)"
      ]
     },
     "execution_count": 8,
     "metadata": {},
     "output_type": "execute_result"
    }
   ],
   "source": [
    "from sklearn.metrics import mean_squared_error\n",
    "mean_squared_error(y_train, sr.predict(X_train[f1]), squared=False).round(2), mean_squared_error(y_test, y_pred, squared=False).round(2)"
   ]
  },
  {
   "cell_type": "code",
   "execution_count": 9,
   "id": "76179002",
   "metadata": {},
   "outputs": [
    {
     "data": {
      "image/png": "[encoded data removed]",
      "text/plain": [
       "<Figure size 432x288 with 1 Axes>"
      ]
     },
     "metadata": {
      "needs_background": "light"
     },
     "output_type": "display_data"
    }
   ],
   "source": [
    "plt.scatter(X_test['year'], y_test, color = 'red')\n",
    "plt.plot(X_test['year'], sr.predict(X_test[f1]), 'bo')\n",
    "plt.title('Price vs Year (Test set)')\n",
    "plt.xlabel('Year')\n",
    "plt.ylabel('Price')\n",
    "plt.show()"
   ]
  },
  {
   "cell_type": "markdown",
   "id": "c45c2452",
   "metadata": {},
   "source": [
    "Мы видим, что наибольший разброс в значениях наблюдается в среднем и высоком ценовом сегментах.\n",
    "Это обусловлено тем, что достаточно большой разброс цен на автомобили одного года выпуска."
   ]
  },
  {
   "cell_type": "markdown",
   "id": "1b5d7d40",
   "metadata": {},
   "source": [
    "# Multiple Linear Regression"
   ]
  },
  {
   "cell_type": "code",
   "execution_count": 15,
   "id": "6270653e",
   "metadata": {},
   "outputs": [],
   "source": [
    "#!pip install statsmodels"
   ]
  },
  {
   "cell_type": "code",
   "execution_count": 16,
   "id": "d54346c9",
   "metadata": {},
   "outputs": [
    {
     "data": {
      "text/plain": [
       "0.613"
      ]
     },
     "execution_count": 16,
     "metadata": {},
     "output_type": "execute_result"
    }
   ],
   "source": [
    "mr = LinearRegression().fit(X_train, y_train)\n",
    "mr.score(X_train, y_train).round(3)"
   ]
  },
  {
   "cell_type": "markdown",
   "id": "a50a1097",
   "metadata": {},
   "source": [
    "Коэффициент детерминации увеличился и качество модели улучшилось."
   ]
  },
  {
   "cell_type": "code",
   "execution_count": 17,
   "id": "611272ec",
   "metadata": {},
   "outputs": [
    {
     "data": {
      "image/png": "[encoded data removed]",
      "text/plain": [
       "<Figure size 432x288 with 1 Axes>"
      ]
     },
     "metadata": {
      "needs_background": "light"
     },
     "output_type": "display_data"
    }
   ],
   "source": [
    "plt.scatter(X_test['year'], y_test, color = 'red')\n",
    "plt.plot(X_test['year'], mr.predict(X_test), 'bo')\n",
    "plt.title('Price vs Year')\n",
    "plt.xlabel('Year')\n",
    "plt.ylabel('Price')\n",
    "plt.show()"
   ]
  },
  {
   "cell_type": "markdown",
   "id": "435fcb7a",
   "metadata": {},
   "source": [
    "Модель стала точнее, лучше описывает низкий и высокий ценовые сегменты. "
   ]
  },
  {
   "cell_type": "code",
   "execution_count": 19,
   "id": "fec9971e",
   "metadata": {},
   "outputs": [
    {
     "data": {
      "text/html": [
       "<table class=\"simpletable\">\n",
       "<caption>OLS Regression Results</caption>\n",
       "<tr>\n",
       "  <th>Dep. Variable:</th>          <td>price</td>      <th>  R-squared:         </th> <td>   0.613</td>\n",
       "</tr>\n",
       "<tr>\n",
       "  <th>Model:</th>                   <td>OLS</td>       <th>  Adj. R-squared:    </th> <td>   0.599</td>\n",
       "</tr>\n",
       "<tr>\n",
       "  <th>Method:</th>             <td>Least Squares</td>  <th>  F-statistic:       </th> <td>   43.75</td>\n",
       "</tr>\n",
       "<tr>\n",
       "  <th>Date:</th>             <td>Sat, 04 Dec 2021</td> <th>  Prob (F-statistic):</th> <td>8.96e-32</td>\n",
       "</tr>\n",
       "<tr>\n",
       "  <th>Time:</th>                 <td>12:27:48</td>     <th>  Log-Likelihood:    </th> <td> -52.175</td>\n",
       "</tr>\n",
       "<tr>\n",
       "  <th>No. Observations:</th>      <td>   173</td>      <th>  AIC:               </th> <td>   118.4</td>\n",
       "</tr>\n",
       "<tr>\n",
       "  <th>Df Residuals:</th>          <td>   166</td>      <th>  BIC:               </th> <td>   140.4</td>\n",
       "</tr>\n",
       "<tr>\n",
       "  <th>Df Model:</th>              <td>     6</td>      <th>                     </th>     <td> </td>   \n",
       "</tr>\n",
       "<tr>\n",
       "  <th>Covariance Type:</th>      <td>nonrobust</td>    <th>                     </th>     <td> </td>   \n",
       "</tr>\n",
       "</table>\n",
       "<table class=\"simpletable\">\n",
       "<tr>\n",
       "        <td></td>          <th>coef</th>     <th>std err</th>      <th>t</th>      <th>P>|t|</th>  <th>[0.025</th>    <th>0.975]</th>  \n",
       "</tr>\n",
       "<tr>\n",
       "  <th>const</th>        <td> -122.4719</td> <td>    9.177</td> <td>  -13.346</td> <td> 0.000</td> <td> -140.590</td> <td> -104.354</td>\n",
       "</tr>\n",
       "<tr>\n",
       "  <th>brand</th>        <td>   -0.0251</td> <td>    0.006</td> <td>   -3.991</td> <td> 0.000</td> <td>   -0.038</td> <td>   -0.013</td>\n",
       "</tr>\n",
       "<tr>\n",
       "  <th>year</th>         <td>    0.0654</td> <td>    0.005</td> <td>   14.397</td> <td> 0.000</td> <td>    0.056</td> <td>    0.074</td>\n",
       "</tr>\n",
       "<tr>\n",
       "  <th>car_mileage</th>  <td>    0.0197</td> <td>    0.034</td> <td>    0.588</td> <td> 0.558</td> <td>   -0.046</td> <td>    0.086</td>\n",
       "</tr>\n",
       "<tr>\n",
       "  <th>fuel</th>         <td>   -0.0474</td> <td>    0.058</td> <td>   -0.823</td> <td> 0.411</td> <td>   -0.161</td> <td>    0.066</td>\n",
       "</tr>\n",
       "<tr>\n",
       "  <th>power</th>        <td>    0.3317</td> <td>    0.078</td> <td>    4.249</td> <td> 0.000</td> <td>    0.178</td> <td>    0.486</td>\n",
       "</tr>\n",
       "<tr>\n",
       "  <th>transmission</th> <td>   -0.1970</td> <td>    0.064</td> <td>   -3.065</td> <td> 0.003</td> <td>   -0.324</td> <td>   -0.070</td>\n",
       "</tr>\n",
       "</table>\n",
       "<table class=\"simpletable\">\n",
       "<tr>\n",
       "  <th>Omnibus:</th>       <td> 1.227</td> <th>  Durbin-Watson:     </th> <td>   1.947</td>\n",
       "</tr>\n",
       "<tr>\n",
       "  <th>Prob(Omnibus):</th> <td> 0.541</td> <th>  Jarque-Bera (JB):  </th> <td>   0.855</td>\n",
       "</tr>\n",
       "<tr>\n",
       "  <th>Skew:</th>          <td> 0.123</td> <th>  Prob(JB):          </th> <td>   0.652</td>\n",
       "</tr>\n",
       "<tr>\n",
       "  <th>Kurtosis:</th>      <td> 3.241</td> <th>  Cond. No.          </th> <td>7.26e+05</td>\n",
       "</tr>\n",
       "</table><br/><br/>Notes:<br/>[1] Standard Errors assume that the covariance matrix of the errors is correctly specified.<br/>[2] The condition number is large, 7.26e+05. This might indicate that there are<br/>strong multicollinearity or other numerical problems."
      ],
      "text/plain": [
       "<class 'statsmodels.iolib.summary.Summary'>\n",
       "\"\"\"\n",
       "                            OLS Regression Results                            \n",
       "==============================================================================\n",
       "Dep. Variable:                  price   R-squared:                       0.613\n",
       "Model:                            OLS   Adj. R-squared:                  0.599\n",
       "Method:                 Least Squares   F-statistic:                     43.75\n",
       "Date:                Sat, 04 Dec 2021   Prob (F-statistic):           8.96e-32\n",
       "Time:                        12:27:48   Log-Likelihood:                -52.175\n",
       "No. Observations:                 173   AIC:                             118.4\n",
       "Df Residuals:                     166   BIC:                             140.4\n",
       "Df Model:                           6                                         \n",
       "Covariance Type:            nonrobust                                         \n",
       "================================================================================\n",
       "                   coef    std err          t      P>|t|      [0.025      0.975]\n",
       "--------------------------------------------------------------------------------\n",
       "const         -122.4719      9.177    -13.346      0.000    -140.590    -104.354\n",
       "brand           -0.0251      0.006     -3.991      0.000      -0.038      -0.013\n",
       "year             0.0654      0.005     14.397      0.000       0.056       0.074\n",
       "car_mileage      0.0197      0.034      0.588      0.558      -0.046       0.086\n",
       "fuel            -0.0474      0.058     -0.823      0.411      -0.161       0.066\n",
       "power            0.3317      0.078      4.249      0.000       0.178       0.486\n",
       "transmission    -0.1970      0.064     -3.065      0.003      -0.324      -0.070\n",
       "==============================================================================\n",
       "Omnibus:                        1.227   Durbin-Watson:                   1.947\n",
       "Prob(Omnibus):                  0.541   Jarque-Bera (JB):                0.855\n",
       "Skew:                           0.123   Prob(JB):                        0.652\n",
       "Kurtosis:                       3.241   Cond. No.                     7.26e+05\n",
       "==============================================================================\n",
       "\n",
       "Notes:\n",
       "[1] Standard Errors assume that the covariance matrix of the errors is correctly specified.\n",
       "[2] The condition number is large, 7.26e+05. This might indicate that there are\n",
       "strong multicollinearity or other numerical problems.\n",
       "\"\"\""
      ]
     },
     "execution_count": 19,
     "metadata": {},
     "output_type": "execute_result"
    }
   ],
   "source": [
    "import statsmodels.api as sm\n",
    "X1 = sm.add_constant(X_train)\n",
    "mr1 = sm.OLS(y_train, X1).fit()\n",
    "mr1.summary()"
   ]
  },
  {
   "cell_type": "markdown",
   "id": "51911abb",
   "metadata": {},
   "source": [
    "Переменные car_mileage, fuel и transmission не являются статистически значимыми."
   ]
  },
  {
   "cell_type": "markdown",
   "id": "0c44bfc3",
   "metadata": {},
   "source": [
    "# Recursive feature elimination"
   ]
  },
  {
   "cell_type": "code",
   "execution_count": 21,
   "id": "0eb510a8",
   "metadata": {},
   "outputs": [],
   "source": [
    "from sklearn.feature_selection import RFE\n",
    "n_features = X.shape[1]\n",
    "estimator = LinearRegression()\n",
    "selector = RFE(estimator, n_features_to_select = 3)\n",
    "selector = selector.fit(X, y)\n",
    "\n",
    "\n",
    "selected_columns=[]\n",
    "for i in range(n_features):\n",
    "    if selector.support_[i] == True:\n",
    "        selected_columns.append(i)\n",
    "        \n",
    "f_lm = []\n",
    "for column in selected_columns:\n",
    "    f_lm.append(X.columns[column])"
   ]
  },
  {
   "cell_type": "code",
   "execution_count": 23,
   "id": "8e9650e1",
   "metadata": {},
   "outputs": [
    {
     "data": {
      "text/plain": [
       "(array([-0.02660122,  0.06547615,  0.33273721, -0.18219662]),\n",
       " -122.57765940618968)"
      ]
     },
     "execution_count": 23,
     "metadata": {},
     "output_type": "execute_result"
    }
   ],
   "source": [
    "f_lm = ['brand', 'year', 'power', 'transmission']\n",
    "mr_rfe = LinearRegression().fit(X_train[f_lm], y_train)\n",
    "mr_rfe.coef_, mr_rfe.intercept_"
   ]
  },
  {
   "cell_type": "markdown",
   "id": "f8c20218",
   "metadata": {},
   "source": [
    "Т.е. price = -0.027*brand+0.065*year+0.33*power-0.18*transmission-122.578"
   ]
  },
  {
   "cell_type": "code",
   "execution_count": 24,
   "id": "7beb6131",
   "metadata": {},
   "outputs": [
    {
     "data": {
      "text/plain": [
       "0.61"
      ]
     },
     "execution_count": 24,
     "metadata": {},
     "output_type": "execute_result"
    }
   ],
   "source": [
    "y_pred = mr_rfe.predict(X_test[f_lm])\n",
    "mr_rfe.score(X_train[f_lm], y_train).round(3)"
   ]
  },
  {
   "cell_type": "markdown",
   "id": "885640ed",
   "metadata": {},
   "source": [
    "Коэффициент детерминации стал немного меньше по сравнению с многофакторной моделью. "
   ]
  },
  {
   "cell_type": "code",
   "execution_count": 25,
   "id": "2b42849f",
   "metadata": {},
   "outputs": [
    {
     "data": {
      "text/plain": [
       "(0.33, 0.31)"
      ]
     },
     "execution_count": 25,
     "metadata": {},
     "output_type": "execute_result"
    }
   ],
   "source": [
    "mean_squared_error(y_train, mr_rfe.predict(X_train[f_lm]), squared=False).round(2), mean_squared_error(y_test, y_pred, squared=False).round(2)"
   ]
  },
  {
   "cell_type": "markdown",
   "id": "271d0979",
   "metadata": {},
   "source": [
    "Среднеквадратическая ошибка улучшилсь по сравнению с однофакторной моделью. \n",
    "Т.е. данная модель лучше, чем модель от одной переменной."
   ]
  },
  {
   "cell_type": "markdown",
   "id": "3a5061f6",
   "metadata": {},
   "source": [
    "# Backward Elimination"
   ]
  },
  {
   "cell_type": "code",
   "execution_count": 29,
   "id": "5bc6af11",
   "metadata": {},
   "outputs": [],
   "source": [
    "def backwardElimination(x, y, sl):\n",
    "    x = sm.add_constant(x)\n",
    "    numVars = x.shape[1]\n",
    "    for i in range(0, numVars):\n",
    "        regressor_OLS = sm.OLS(y, x).fit()\n",
    "        maxVar = max(regressor_OLS.pvalues)\n",
    "        if maxVar > sl:\n",
    "            for j in range(0, numVars - i):\n",
    "                if (regressor_OLS.pvalues[j] == maxVar):\n",
    "                    x = x.drop(x.columns[j], axis=1)\n",
    "    regressor_OLS.summary()\n",
    "    return x\n",
    "\n",
    "SL = 0.0001\n",
    "X_Modeled = backwardElimination(X_train, y_train, SL)"
   ]
  },
  {
   "cell_type": "code",
   "execution_count": 30,
   "id": "2838a1b1",
   "metadata": {},
   "outputs": [
    {
     "data": {
      "text/plain": [
       "0.59"
      ]
     },
     "execution_count": 30,
     "metadata": {},
     "output_type": "execute_result"
    }
   ],
   "source": [
    "mr_be = LinearRegression().fit(X_Modeled, y_train)\n",
    "mr_be.score(X_Modeled, y_train).round(3)"
   ]
  },
  {
   "cell_type": "markdown",
   "id": "754facaf",
   "metadata": {},
   "source": [
    "Видим, что коэффициент детерминации в оптимизированной модели меньше, чем в модели с 4 факторами."
   ]
  },
  {
   "cell_type": "markdown",
   "id": "13edf2f0",
   "metadata": {},
   "source": [
    "# Polynomial Regression"
   ]
  },
  {
   "cell_type": "code",
   "execution_count": 28,
   "id": "f659dc6d",
   "metadata": {},
   "outputs": [
    {
     "data": {
      "text/plain": [
       "(array([ 8.80187743e-09,  6.25480804e+00, -3.79255515e-01, -2.64585722e+01,\n",
       "         3.59744859e+01, -5.03898259e+01, -3.66507916e+01, -5.79275569e-03,\n",
       "        -3.19020343e-03,  1.09292207e-02, -9.83128507e-02,  1.46550003e-02,\n",
       "         7.24268473e-02,  7.48344213e-05,  1.29314049e-02, -1.77857164e-02,\n",
       "         2.50746985e-02,  2.05761552e-02,  7.44300821e-03,  4.42472891e-01,\n",
       "         9.97971828e-02,  1.34803293e-01, -6.53329445e-01,  5.00936517e-01,\n",
       "        -1.08027799e+00, -8.42521596e-02,  1.07255661e-01, -1.97250067e+00]),\n",
       " 467.2587894418824)"
      ]
     },
     "execution_count": 28,
     "metadata": {},
     "output_type": "execute_result"
    }
   ],
   "source": [
    "from sklearn.preprocessing import PolynomialFeatures\n",
    "X_train_p = PolynomialFeatures().fit_transform(X_train)\n",
    "X_test_p = PolynomialFeatures().fit_transform(X_test)\n",
    "pr = LinearRegression().fit(X_train_p, y_train)\n",
    "pr.coef_, pr.intercept_"
   ]
  },
  {
   "cell_type": "code",
   "execution_count": 31,
   "id": "3ea325d0",
   "metadata": {},
   "outputs": [
    {
     "data": {
      "text/plain": [
       "0.771"
      ]
     },
     "execution_count": 31,
     "metadata": {},
     "output_type": "execute_result"
    }
   ],
   "source": [
    "y_pred = pr.predict(X_test_p)\n",
    "pr.score(X_train_p, y_train).round(3)"
   ]
  },
  {
   "cell_type": "markdown",
   "id": "56be76fe",
   "metadata": {},
   "source": [
    "Коэффициент детерминации имеет наибольшее значение по сравнению с ранее построенными моделями."
   ]
  },
  {
   "cell_type": "code",
   "execution_count": 32,
   "id": "dd189d99",
   "metadata": {},
   "outputs": [
    {
     "data": {
      "text/plain": [
       "(0.25, 0.94)"
      ]
     },
     "execution_count": 32,
     "metadata": {},
     "output_type": "execute_result"
    }
   ],
   "source": [
    "mean_squared_error(y_train, pr.predict(X_train_p), squared=False).round(2), mean_squared_error(y_test, y_pred, squared=False).round(2)"
   ]
  },
  {
   "cell_type": "markdown",
   "id": "3f2e6a1d",
   "metadata": {},
   "source": [
    "Можем сделать вывод, что модель переобучена, является слишком сложной для наших данных. "
   ]
  },
  {
   "cell_type": "code",
   "execution_count": 34,
   "id": "1ff5e894",
   "metadata": {},
   "outputs": [],
   "source": [
    "import pickle\n",
    "obj = {'X_train': X_train, 'X_test': X_test,'y_train': y_train,'y_test': y_test}\n",
    "output = open('data_reg.pkl', 'wb')\n",
    "pickle.dump(obj, output, 2)\n",
    "output.close()"
   ]
  },
  {
   "cell_type": "code",
   "execution_count": null,
   "id": "0cfc65d2",
   "metadata": {},
   "outputs": [],
   "source": []
  }
 ],
 "metadata": {
  "kernelspec": {
   "display_name": "Python 3",
   "language": "python",
   "name": "python3"
  },
  "language_info": {
   "codemirror_mode": {
    "name": "ipython",
    "version": 3
   },
   "file_extension": ".py",
   "mimetype": "text/x-python",
   "name": "python",
   "nbconvert_exporter": "python",
   "pygments_lexer": "ipython3",
   "version": "3.8.8"
  }
 },
 "nbformat": 4,
 "nbformat_minor": 5
}
