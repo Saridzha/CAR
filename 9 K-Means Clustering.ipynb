{
 "cells": [
  {
   "cell_type": "code",
   "execution_count": 1,
   "id": "f827f76a",
   "metadata": {},
   "outputs": [
    {
     "data": {
      "text/html": [
       "<script>\n",
       "code_show=true; \n",
       "function code_toggle() {\n",
       " if (code_show){\n",
       " $('div.input').hide();\n",
       " } else {\n",
       " $('div.input').show();\n",
       " }\n",
       " code_show = !code_show\n",
       "} \n",
       "$( document ).ready(code_toggle);\n",
       "</script>\n",
       "<form action=\"javascript:code_toggle()\"><input type=\"submit\" value=\"Click here to toggle on/off the raw code.\"></form>"
      ],
      "text/plain": [
       "<IPython.core.display.HTML object>"
      ]
     },
     "execution_count": 1,
     "metadata": {},
     "output_type": "execute_result"
    }
   ],
   "source": [
    "from IPython.display import HTML\n",
    "\n",
    "HTML('''<script>\n",
    "code_show=true; \n",
    "function code_toggle() {\n",
    " if (code_show){\n",
    " $('div.input').hide();\n",
    " } else {\n",
    " $('div.input').show();\n",
    " }\n",
    " code_show = !code_show\n",
    "} \n",
    "$( document ).ready(code_toggle);\n",
    "</script>\n",
    "<form action=\"javascript:code_toggle()\"><input type=\"submit\" value=\"Click here to toggle on/off the raw code.\"></form>''')"
   ]
  },
  {
   "cell_type": "code",
   "execution_count": 1,
   "id": "89ee5b3e",
   "metadata": {},
   "outputs": [],
   "source": [
    "import numpy as np\n",
    "import matplotlib.pyplot as plt\n",
    "import pandas as pd"
   ]
  },
  {
   "cell_type": "markdown",
   "id": "3d6b96ac",
   "metadata": {},
   "source": [
    "# Data preparation"
   ]
  },
  {
   "cell_type": "code",
   "execution_count": 2,
   "id": "c518e43f",
   "metadata": {},
   "outputs": [
    {
     "data": {
      "text/html": [
       "<div>\n",
       "<style scoped>\n",
       "    .dataframe tbody tr th:only-of-type {\n",
       "        vertical-align: middle;\n",
       "    }\n",
       "\n",
       "    .dataframe tbody tr th {\n",
       "        vertical-align: top;\n",
       "    }\n",
       "\n",
       "    .dataframe thead th {\n",
       "        text-align: right;\n",
       "    }\n",
       "</style>\n",
       "<table border=\"1\" class=\"dataframe\">\n",
       "  <thead>\n",
       "    <tr style=\"text-align: right;\">\n",
       "      <th></th>\n",
       "      <th>brand</th>\n",
       "      <th>year</th>\n",
       "      <th>price</th>\n",
       "      <th>car_mileage</th>\n",
       "      <th>fuel</th>\n",
       "      <th>power</th>\n",
       "      <th>transmission</th>\n",
       "      <th>car age</th>\n",
       "      <th>cost level</th>\n",
       "    </tr>\n",
       "  </thead>\n",
       "  <tbody>\n",
       "    <tr>\n",
       "      <th>0</th>\n",
       "      <td>0</td>\n",
       "      <td>2006.0</td>\n",
       "      <td>8.584852</td>\n",
       "      <td>5.393628</td>\n",
       "      <td>0</td>\n",
       "      <td>2.0</td>\n",
       "      <td>2</td>\n",
       "      <td>15.0</td>\n",
       "      <td>0</td>\n",
       "    </tr>\n",
       "    <tr>\n",
       "      <th>1</th>\n",
       "      <td>1</td>\n",
       "      <td>2017.0</td>\n",
       "      <td>9.740969</td>\n",
       "      <td>5.351858</td>\n",
       "      <td>0</td>\n",
       "      <td>2.0</td>\n",
       "      <td>2</td>\n",
       "      <td>4.0</td>\n",
       "      <td>1</td>\n",
       "    </tr>\n",
       "    <tr>\n",
       "      <th>2</th>\n",
       "      <td>2</td>\n",
       "      <td>2015.0</td>\n",
       "      <td>9.629051</td>\n",
       "      <td>5.056246</td>\n",
       "      <td>0</td>\n",
       "      <td>2.0</td>\n",
       "      <td>2</td>\n",
       "      <td>6.0</td>\n",
       "      <td>1</td>\n",
       "    </tr>\n",
       "    <tr>\n",
       "      <th>3</th>\n",
       "      <td>0</td>\n",
       "      <td>2000.0</td>\n",
       "      <td>8.516993</td>\n",
       "      <td>5.703782</td>\n",
       "      <td>0</td>\n",
       "      <td>2.0</td>\n",
       "      <td>2</td>\n",
       "      <td>21.0</td>\n",
       "      <td>0</td>\n",
       "    </tr>\n",
       "    <tr>\n",
       "      <th>4</th>\n",
       "      <td>3</td>\n",
       "      <td>2010.0</td>\n",
       "      <td>9.937889</td>\n",
       "      <td>6.525030</td>\n",
       "      <td>0</td>\n",
       "      <td>3.0</td>\n",
       "      <td>1</td>\n",
       "      <td>11.0</td>\n",
       "      <td>1</td>\n",
       "    </tr>\n",
       "    <tr>\n",
       "      <th>...</th>\n",
       "      <td>...</td>\n",
       "      <td>...</td>\n",
       "      <td>...</td>\n",
       "      <td>...</td>\n",
       "      <td>...</td>\n",
       "      <td>...</td>\n",
       "      <td>...</td>\n",
       "      <td>...</td>\n",
       "      <td>...</td>\n",
       "    </tr>\n",
       "    <tr>\n",
       "      <th>212</th>\n",
       "      <td>0</td>\n",
       "      <td>2016.0</td>\n",
       "      <td>9.546741</td>\n",
       "      <td>5.135798</td>\n",
       "      <td>0</td>\n",
       "      <td>2.0</td>\n",
       "      <td>2</td>\n",
       "      <td>5.0</td>\n",
       "      <td>1</td>\n",
       "    </tr>\n",
       "    <tr>\n",
       "      <th>213</th>\n",
       "      <td>4</td>\n",
       "      <td>2010.0</td>\n",
       "      <td>9.332558</td>\n",
       "      <td>5.509388</td>\n",
       "      <td>0</td>\n",
       "      <td>2.0</td>\n",
       "      <td>2</td>\n",
       "      <td>11.0</td>\n",
       "      <td>0</td>\n",
       "    </tr>\n",
       "    <tr>\n",
       "      <th>214</th>\n",
       "      <td>3</td>\n",
       "      <td>2000.0</td>\n",
       "      <td>8.517193</td>\n",
       "      <td>5.521461</td>\n",
       "      <td>0</td>\n",
       "      <td>3.0</td>\n",
       "      <td>2</td>\n",
       "      <td>21.0</td>\n",
       "      <td>0</td>\n",
       "    </tr>\n",
       "    <tr>\n",
       "      <th>215</th>\n",
       "      <td>3</td>\n",
       "      <td>2001.0</td>\n",
       "      <td>8.922658</td>\n",
       "      <td>5.913503</td>\n",
       "      <td>0</td>\n",
       "      <td>2.0</td>\n",
       "      <td>1</td>\n",
       "      <td>20.0</td>\n",
       "      <td>0</td>\n",
       "    </tr>\n",
       "    <tr>\n",
       "      <th>216</th>\n",
       "      <td>2</td>\n",
       "      <td>2006.0</td>\n",
       "      <td>8.881836</td>\n",
       "      <td>5.398163</td>\n",
       "      <td>0</td>\n",
       "      <td>2.0</td>\n",
       "      <td>2</td>\n",
       "      <td>15.0</td>\n",
       "      <td>0</td>\n",
       "    </tr>\n",
       "  </tbody>\n",
       "</table>\n",
       "<p>217 rows × 9 columns</p>\n",
       "</div>"
      ],
      "text/plain": [
       "     brand    year     price  car_mileage  fuel  power  transmission  car age  \\\n",
       "0        0  2006.0  8.584852     5.393628     0    2.0             2     15.0   \n",
       "1        1  2017.0  9.740969     5.351858     0    2.0             2      4.0   \n",
       "2        2  2015.0  9.629051     5.056246     0    2.0             2      6.0   \n",
       "3        0  2000.0  8.516993     5.703782     0    2.0             2     21.0   \n",
       "4        3  2010.0  9.937889     6.525030     0    3.0             1     11.0   \n",
       "..     ...     ...       ...          ...   ...    ...           ...      ...   \n",
       "212      0  2016.0  9.546741     5.135798     0    2.0             2      5.0   \n",
       "213      4  2010.0  9.332558     5.509388     0    2.0             2     11.0   \n",
       "214      3  2000.0  8.517193     5.521461     0    3.0             2     21.0   \n",
       "215      3  2001.0  8.922658     5.913503     0    2.0             1     20.0   \n",
       "216      2  2006.0  8.881836     5.398163     0    2.0             2     15.0   \n",
       "\n",
       "     cost level  \n",
       "0             0  \n",
       "1             1  \n",
       "2             1  \n",
       "3             0  \n",
       "4             1  \n",
       "..          ...  \n",
       "212           1  \n",
       "213           0  \n",
       "214           0  \n",
       "215           0  \n",
       "216           0  \n",
       "\n",
       "[217 rows x 9 columns]"
      ]
     },
     "execution_count": 2,
     "metadata": {},
     "output_type": "execute_result"
    }
   ],
   "source": [
    "df = pd.read_csv('auto1_prep.csv', sep=',')\n",
    "df['car age']=(2021-df['year'])\n",
    "df['cost level']=np.where (df['price']<=9.5,0,1)\n",
    "df"
   ]
  },
  {
   "cell_type": "code",
   "execution_count": 3,
   "id": "b73c556d",
   "metadata": {},
   "outputs": [
    {
     "data": {
      "text/html": [
       "<div>\n",
       "<style scoped>\n",
       "    .dataframe tbody tr th:only-of-type {\n",
       "        vertical-align: middle;\n",
       "    }\n",
       "\n",
       "    .dataframe tbody tr th {\n",
       "        vertical-align: top;\n",
       "    }\n",
       "\n",
       "    .dataframe thead th {\n",
       "        text-align: right;\n",
       "    }\n",
       "</style>\n",
       "<table border=\"1\" class=\"dataframe\">\n",
       "  <thead>\n",
       "    <tr style=\"text-align: right;\">\n",
       "      <th></th>\n",
       "      <th>brand</th>\n",
       "      <th>year</th>\n",
       "      <th>price</th>\n",
       "      <th>car_mileage</th>\n",
       "      <th>fuel</th>\n",
       "      <th>power</th>\n",
       "      <th>transmission</th>\n",
       "      <th>car age</th>\n",
       "      <th>cost level</th>\n",
       "    </tr>\n",
       "  </thead>\n",
       "  <tbody>\n",
       "    <tr>\n",
       "      <th>0</th>\n",
       "      <td>0.0</td>\n",
       "      <td>1.0</td>\n",
       "      <td>0.0</td>\n",
       "      <td>1.0</td>\n",
       "      <td>0.0</td>\n",
       "      <td>0.0</td>\n",
       "      <td>1.0</td>\n",
       "      <td>0.0</td>\n",
       "      <td>0.0</td>\n",
       "    </tr>\n",
       "    <tr>\n",
       "      <th>1</th>\n",
       "      <td>0.0</td>\n",
       "      <td>1.0</td>\n",
       "      <td>1.0</td>\n",
       "      <td>1.0</td>\n",
       "      <td>0.0</td>\n",
       "      <td>0.0</td>\n",
       "      <td>1.0</td>\n",
       "      <td>0.0</td>\n",
       "      <td>1.0</td>\n",
       "    </tr>\n",
       "    <tr>\n",
       "      <th>2</th>\n",
       "      <td>0.0</td>\n",
       "      <td>1.0</td>\n",
       "      <td>1.0</td>\n",
       "      <td>1.0</td>\n",
       "      <td>0.0</td>\n",
       "      <td>0.0</td>\n",
       "      <td>1.0</td>\n",
       "      <td>0.0</td>\n",
       "      <td>1.0</td>\n",
       "    </tr>\n",
       "    <tr>\n",
       "      <th>3</th>\n",
       "      <td>0.0</td>\n",
       "      <td>0.0</td>\n",
       "      <td>0.0</td>\n",
       "      <td>1.0</td>\n",
       "      <td>0.0</td>\n",
       "      <td>0.0</td>\n",
       "      <td>1.0</td>\n",
       "      <td>1.0</td>\n",
       "      <td>0.0</td>\n",
       "    </tr>\n",
       "    <tr>\n",
       "      <th>4</th>\n",
       "      <td>0.0</td>\n",
       "      <td>1.0</td>\n",
       "      <td>1.0</td>\n",
       "      <td>1.0</td>\n",
       "      <td>0.0</td>\n",
       "      <td>1.0</td>\n",
       "      <td>0.0</td>\n",
       "      <td>0.0</td>\n",
       "      <td>1.0</td>\n",
       "    </tr>\n",
       "    <tr>\n",
       "      <th>...</th>\n",
       "      <td>...</td>\n",
       "      <td>...</td>\n",
       "      <td>...</td>\n",
       "      <td>...</td>\n",
       "      <td>...</td>\n",
       "      <td>...</td>\n",
       "      <td>...</td>\n",
       "      <td>...</td>\n",
       "      <td>...</td>\n",
       "    </tr>\n",
       "    <tr>\n",
       "      <th>212</th>\n",
       "      <td>0.0</td>\n",
       "      <td>1.0</td>\n",
       "      <td>1.0</td>\n",
       "      <td>1.0</td>\n",
       "      <td>0.0</td>\n",
       "      <td>0.0</td>\n",
       "      <td>1.0</td>\n",
       "      <td>0.0</td>\n",
       "      <td>1.0</td>\n",
       "    </tr>\n",
       "    <tr>\n",
       "      <th>213</th>\n",
       "      <td>0.0</td>\n",
       "      <td>1.0</td>\n",
       "      <td>1.0</td>\n",
       "      <td>1.0</td>\n",
       "      <td>0.0</td>\n",
       "      <td>0.0</td>\n",
       "      <td>1.0</td>\n",
       "      <td>0.0</td>\n",
       "      <td>0.0</td>\n",
       "    </tr>\n",
       "    <tr>\n",
       "      <th>214</th>\n",
       "      <td>0.0</td>\n",
       "      <td>0.0</td>\n",
       "      <td>0.0</td>\n",
       "      <td>1.0</td>\n",
       "      <td>0.0</td>\n",
       "      <td>1.0</td>\n",
       "      <td>1.0</td>\n",
       "      <td>1.0</td>\n",
       "      <td>0.0</td>\n",
       "    </tr>\n",
       "    <tr>\n",
       "      <th>215</th>\n",
       "      <td>0.0</td>\n",
       "      <td>0.0</td>\n",
       "      <td>0.0</td>\n",
       "      <td>1.0</td>\n",
       "      <td>0.0</td>\n",
       "      <td>0.0</td>\n",
       "      <td>0.0</td>\n",
       "      <td>1.0</td>\n",
       "      <td>0.0</td>\n",
       "    </tr>\n",
       "    <tr>\n",
       "      <th>216</th>\n",
       "      <td>0.0</td>\n",
       "      <td>1.0</td>\n",
       "      <td>0.0</td>\n",
       "      <td>1.0</td>\n",
       "      <td>0.0</td>\n",
       "      <td>0.0</td>\n",
       "      <td>1.0</td>\n",
       "      <td>0.0</td>\n",
       "      <td>0.0</td>\n",
       "    </tr>\n",
       "  </tbody>\n",
       "</table>\n",
       "<p>217 rows × 9 columns</p>\n",
       "</div>"
      ],
      "text/plain": [
       "     brand  year  price  car_mileage  fuel  power  transmission  car age  \\\n",
       "0      0.0   1.0    0.0          1.0   0.0    0.0           1.0      0.0   \n",
       "1      0.0   1.0    1.0          1.0   0.0    0.0           1.0      0.0   \n",
       "2      0.0   1.0    1.0          1.0   0.0    0.0           1.0      0.0   \n",
       "3      0.0   0.0    0.0          1.0   0.0    0.0           1.0      1.0   \n",
       "4      0.0   1.0    1.0          1.0   0.0    1.0           0.0      0.0   \n",
       "..     ...   ...    ...          ...   ...    ...           ...      ...   \n",
       "212    0.0   1.0    1.0          1.0   0.0    0.0           1.0      0.0   \n",
       "213    0.0   1.0    1.0          1.0   0.0    0.0           1.0      0.0   \n",
       "214    0.0   0.0    0.0          1.0   0.0    1.0           1.0      1.0   \n",
       "215    0.0   0.0    0.0          1.0   0.0    0.0           0.0      1.0   \n",
       "216    0.0   1.0    0.0          1.0   0.0    0.0           1.0      0.0   \n",
       "\n",
       "     cost level  \n",
       "0           0.0  \n",
       "1           1.0  \n",
       "2           1.0  \n",
       "3           0.0  \n",
       "4           1.0  \n",
       "..          ...  \n",
       "212         1.0  \n",
       "213         0.0  \n",
       "214         0.0  \n",
       "215         0.0  \n",
       "216         0.0  \n",
       "\n",
       "[217 rows x 9 columns]"
      ]
     },
     "execution_count": 3,
     "metadata": {},
     "output_type": "execute_result"
    }
   ],
   "source": [
    "from sklearn.preprocessing import MinMaxScaler\n",
    "sc = MinMaxScaler().fit(df)\n",
    "df = sc.transform(df)\n",
    "pd.DataFrame(df, columns = ['brand', 'year', 'price', 'car_mileage', 'fuel', 'power', 'transmission', 'car age', 'cost level']).round()"
   ]
  },
  {
   "cell_type": "markdown",
   "id": "5a57306c",
   "metadata": {},
   "source": [
    "# Number of clusters"
   ]
  },
  {
   "cell_type": "code",
   "execution_count": 4,
   "id": "459d968d",
   "metadata": {},
   "outputs": [
    {
     "name": "stderr",
     "output_type": "stream",
     "text": [
      "C:\\Users\\Julia\\anaconda3\\lib\\site-packages\\sklearn\\cluster\\_kmeans.py:881: UserWarning: KMeans is known to have a memory leak on Windows with MKL, when there are less chunks than available threads. You can avoid it by setting the environment variable OMP_NUM_THREADS=1.\n",
      "  warnings.warn(\n"
     ]
    },
    {
     "data": {
      "image/png": "[encoded data removed]",
      "text/plain": [
       "<Figure size 432x288 with 1 Axes>"
      ]
     },
     "metadata": {
      "needs_background": "light"
     },
     "output_type": "display_data"
    }
   ],
   "source": [
    "from sklearn.cluster import KMeans\n",
    "wcss = []\n",
    "for i in range(1, 11):\n",
    "    kmeans = KMeans(n_clusters = i, init = 'k-means++', random_state = 0)\n",
    "    kmeans.fit(df)\n",
    "    wcss.append(kmeans.inertia_)\n",
    "plt.plot(range(1, 11), wcss)\n",
    "plt.title('The Elbow Method')\n",
    "plt.xlabel('Number of clusters')\n",
    "plt.ylabel('WCSS')\n",
    "plt.show()"
   ]
  },
  {
   "cell_type": "markdown",
   "id": "5dd7c806",
   "metadata": {},
   "source": [
    "Наибольший перелом наблюдается при двух кластерах (так же как в иерархической кластеризации)"
   ]
  },
  {
   "cell_type": "code",
   "execution_count": 36,
   "id": "15d61a79",
   "metadata": {},
   "outputs": [
    {
     "data": {
      "image/png": "[encoded data removed]",
      "text/plain": [
       "<Figure size 432x288 with 1 Axes>"
      ]
     },
     "metadata": {
      "needs_background": "light"
     },
     "output_type": "display_data"
    },
    {
     "name": "stdout",
     "output_type": "stream",
     "text": [
      "2:0.506984262658551\n",
      "3:0.4639423167819869\n",
      "4:0.2904867498621762\n",
      "5:0.3566281946344656\n"
     ]
    }
   ],
   "source": [
    "from sklearn.metrics import silhouette_score\n",
    "\n",
    "sil = []\n",
    "\n",
    "for k in range(2, 6):\n",
    "    kmeans = KMeans(n_clusters = k).fit(df)  \n",
    "    preds = kmeans.fit_predict(df)\n",
    "    sil.append(silhouette_score(df, preds, metric = 'euclidean'))\n",
    "\n",
    "\n",
    "plt.plot(range(2, 6), sil)\n",
    "plt.title('Silhouette Method')\n",
    "plt.xlabel('Number of clusters')\n",
    "plt.ylabel('Sil')\n",
    "plt.show()\n",
    "\n",
    "for i in range(len(sil)):\n",
    "    print(str(i+2) +\":\"+ str(sil[i]))"
   ]
  },
  {
   "cell_type": "markdown",
   "id": "439ac0c1",
   "metadata": {},
   "source": [
    "В данных есть средневыраженные структуры, т.к. Silhouette меняется от 0.3 до 0.5 \n",
    "При 2-х кластерах Silhouette достигает максимума."
   ]
  },
  {
   "cell_type": "markdown",
   "id": "6d88af8f",
   "metadata": {},
   "source": [
    "# Model"
   ]
  },
  {
   "cell_type": "code",
   "execution_count": 37,
   "id": "0fb2abfd",
   "metadata": {},
   "outputs": [
    {
     "data": {
      "text/html": [
       "<div>\n",
       "<style scoped>\n",
       "    .dataframe tbody tr th:only-of-type {\n",
       "        vertical-align: middle;\n",
       "    }\n",
       "\n",
       "    .dataframe tbody tr th {\n",
       "        vertical-align: top;\n",
       "    }\n",
       "\n",
       "    .dataframe thead th {\n",
       "        text-align: right;\n",
       "    }\n",
       "</style>\n",
       "<table border=\"1\" class=\"dataframe\">\n",
       "  <thead>\n",
       "    <tr style=\"text-align: right;\">\n",
       "      <th></th>\n",
       "      <th>brand</th>\n",
       "      <th>year</th>\n",
       "      <th>price</th>\n",
       "      <th>car_mileage</th>\n",
       "      <th>fuel</th>\n",
       "      <th>power</th>\n",
       "      <th>transmission</th>\n",
       "      <th>car age</th>\n",
       "      <th>cost level</th>\n",
       "    </tr>\n",
       "  </thead>\n",
       "  <tbody>\n",
       "    <tr>\n",
       "      <th>0</th>\n",
       "      <td>0.225371</td>\n",
       "      <td>0.563535</td>\n",
       "      <td>0.495422</td>\n",
       "      <td>0.574541</td>\n",
       "      <td>0.076923</td>\n",
       "      <td>0.485880</td>\n",
       "      <td>0.923077</td>\n",
       "      <td>0.436465</td>\n",
       "      <td>7.216450e-16</td>\n",
       "    </tr>\n",
       "    <tr>\n",
       "      <th>1</th>\n",
       "      <td>0.179465</td>\n",
       "      <td>0.809677</td>\n",
       "      <td>0.804541</td>\n",
       "      <td>0.551188</td>\n",
       "      <td>0.081967</td>\n",
       "      <td>0.533911</td>\n",
       "      <td>0.836066</td>\n",
       "      <td>0.190323</td>\n",
       "      <td>1.000000e+00</td>\n",
       "    </tr>\n",
       "  </tbody>\n",
       "</table>\n",
       "</div>"
      ],
      "text/plain": [
       "      brand      year     price  car_mileage      fuel     power  \\\n",
       "0  0.225371  0.563535  0.495422     0.574541  0.076923  0.485880   \n",
       "1  0.179465  0.809677  0.804541     0.551188  0.081967  0.533911   \n",
       "\n",
       "   transmission   car age    cost level  \n",
       "0      0.923077  0.436465  7.216450e-16  \n",
       "1      0.836066  0.190323  1.000000e+00  "
      ]
     },
     "execution_count": 37,
     "metadata": {},
     "output_type": "execute_result"
    }
   ],
   "source": [
    "km = KMeans(n_clusters = 2, init = 'k-means++', random_state = 0).fit_predict(df)\n",
    "kms = KMeans(n_clusters = 2, random_state = 0).fit(df)\n",
    "pd.DataFrame(kms.cluster_centers_, columns = ['brand', 'year', 'price', 'car_mileage', 'fuel', 'power', 'transmission', 'car age', 'cost level'])"
   ]
  },
  {
   "cell_type": "markdown",
   "id": "27e15c5a",
   "metadata": {},
   "source": [
    "Слабо вариативными признаками являются: brand, car_mileage, fuel, power, transmission. Их мы не будем использовать в кластеризации."
   ]
  },
  {
   "cell_type": "markdown",
   "id": "ad579fd2",
   "metadata": {},
   "source": [
    "# Feature Reduction"
   ]
  },
  {
   "cell_type": "code",
   "execution_count": 38,
   "id": "dae04b2f",
   "metadata": {},
   "outputs": [],
   "source": [
    "X = df[:, [1, 2, 8]]"
   ]
  },
  {
   "cell_type": "code",
   "execution_count": 39,
   "id": "269b2392",
   "metadata": {},
   "outputs": [
    {
     "data": {
      "text/html": [
       "<div>\n",
       "<style scoped>\n",
       "    .dataframe tbody tr th:only-of-type {\n",
       "        vertical-align: middle;\n",
       "    }\n",
       "\n",
       "    .dataframe tbody tr th {\n",
       "        vertical-align: top;\n",
       "    }\n",
       "\n",
       "    .dataframe thead th {\n",
       "        text-align: right;\n",
       "    }\n",
       "</style>\n",
       "<table border=\"1\" class=\"dataframe\">\n",
       "  <thead>\n",
       "    <tr style=\"text-align: right;\">\n",
       "      <th></th>\n",
       "      <th>year</th>\n",
       "      <th>price</th>\n",
       "      <th>cost level</th>\n",
       "    </tr>\n",
       "  </thead>\n",
       "  <tbody>\n",
       "    <tr>\n",
       "      <th>0</th>\n",
       "      <td>1.0</td>\n",
       "      <td>0.0</td>\n",
       "      <td>0.0</td>\n",
       "    </tr>\n",
       "    <tr>\n",
       "      <th>1</th>\n",
       "      <td>1.0</td>\n",
       "      <td>1.0</td>\n",
       "      <td>1.0</td>\n",
       "    </tr>\n",
       "  </tbody>\n",
       "</table>\n",
       "</div>"
      ],
      "text/plain": [
       "   year  price  cost level\n",
       "0   1.0    0.0         0.0\n",
       "1   1.0    1.0         1.0"
      ]
     },
     "execution_count": 39,
     "metadata": {},
     "output_type": "execute_result"
    }
   ],
   "source": [
    "km = KMeans(n_clusters = 2, init = 'k-means++', random_state = 0).fit_predict(X)\n",
    "kms = KMeans(n_clusters = 2, random_state = 0).fit(X)\n",
    "pd.DataFrame(kms.cluster_centers_, columns = ['year','price','cost level']).round()"
   ]
  },
  {
   "cell_type": "markdown",
   "id": "94a6b3ad",
   "metadata": {},
   "source": [
    "# Results matching"
   ]
  },
  {
   "cell_type": "code",
   "execution_count": 43,
   "id": "a2d4fc56",
   "metadata": {},
   "outputs": [],
   "source": [
    "import pickle\n",
    "input = open('clust.pkl', 'rb')\n",
    "obj = pickle.load(input)\n",
    "input.close()\n",
    "hc = obj[\"hc\"]"
   ]
  },
  {
   "cell_type": "code",
   "execution_count": 44,
   "id": "ce7bf980",
   "metadata": {},
   "outputs": [
    {
     "data": {
      "text/plain": [
       "0.9618379997893295"
      ]
     },
     "execution_count": 44,
     "metadata": {},
     "output_type": "execute_result"
    }
   ],
   "source": [
    "from sklearn.metrics.cluster import adjusted_rand_score\n",
    "adjusted_rand_score(hc,km)"
   ]
  },
  {
   "cell_type": "markdown",
   "id": "756b3f8d",
   "metadata": {},
   "source": [
    "Результаты, полученые на основе кластеризаций, пересекаются на 96%"
   ]
  },
  {
   "cell_type": "code",
   "execution_count": 42,
   "id": "6433c4de",
   "metadata": {},
   "outputs": [],
   "source": [
    "import pickle\n",
    "obj = {'km': km}\n",
    "output = open('clust-km.pkl', 'wb')\n",
    "pickle.dump(obj, output, 2)\n",
    "output.close()"
   ]
  },
  {
   "cell_type": "code",
   "execution_count": null,
   "id": "26958eff",
   "metadata": {},
   "outputs": [],
   "source": []
  }
 ],
 "metadata": {
  "kernelspec": {
   "display_name": "Python 3",
   "language": "python",
   "name": "python3"
  },
  "language_info": {
   "codemirror_mode": {
    "name": "ipython",
    "version": 3
   },
   "file_extension": ".py",
   "mimetype": "text/x-python",
   "name": "python",
   "nbconvert_exporter": "python",
   "pygments_lexer": "ipython3",
   "version": "3.8.8"
  }
 },
 "nbformat": 4,
 "nbformat_minor": 5
}
